{
 "cells": [
  {
   "cell_type": "code",
   "execution_count": 1,
   "id": "849f6d6c-e6f6-402e-93cc-fe2e8077384b",
   "metadata": {},
   "outputs": [],
   "source": [
    "import math\n",
    "import collections\n",
    "\n",
    "import numpy as np\n",
    "import pandas as pd\n",
    "import matplotlib.pyplot as plt\n",
    "\n",
    "%matplotlib inline"
   ]
  },
  {
   "cell_type": "markdown",
   "id": "4acb09ad-ae31-419d-9043-098a345b1b21",
   "metadata": {},
   "source": [
    "***Load the discography file***"
   ]
  },
  {
   "cell_type": "code",
   "execution_count": 2,
   "id": "ff1e0fb5-9ee2-4ffb-9a82-043195c775e3",
   "metadata": {},
   "outputs": [],
   "source": [
    "discography = np.load('discography.npy')"
   ]
  },
  {
   "cell_type": "code",
   "execution_count": 3,
   "id": "d548d02c-a61d-4d96-a872-a1458d4af12b",
   "metadata": {},
   "outputs": [
    {
     "data": {
      "text/plain": [
       "array([('David Bowie', '1969-11-14', 17),\n",
       "       ('The Man Who Sold the World', '1970-11-04',  3),\n",
       "       ('Hunky Dory', '1971-12-17',  5),\n",
       "       ('Ziggy Stardust', '1972-06-16',  1),\n",
       "       ('Aladdin Sane', '1973-04-13',  1), ('Pin Ups', '1973-10-19',  1),\n",
       "       ('Diamond Dogs', '1974-05-24',  1),\n",
       "       ('Young Americans', '1975-03-07',  2),\n",
       "       ('Station To Station', '1976-01-23',  5),\n",
       "       ('Low', '1977-01-14',  2), ('Heroes', '1977-10-14',  3),\n",
       "       ('Lodger', '1979-05-18',  4)],\n",
       "      dtype=[('title', '<U32'), ('release', '<M8[D]'), ('toprank', '<i8')])"
      ]
     },
     "execution_count": 3,
     "metadata": {},
     "output_type": "execute_result"
    }
   ],
   "source": [
    "discography"
   ]
  },
  {
   "cell_type": "markdown",
   "id": "41863eeb-edee-4474-98ea-99b21725b661",
   "metadata": {},
   "source": [
    "***Display the first tuple in the list***"
   ]
  },
  {
   "cell_type": "code",
   "execution_count": 4,
   "id": "aab14f15-337a-4a6d-b897-e0cffe555c59",
   "metadata": {},
   "outputs": [
    {
     "data": {
      "text/plain": [
       "('David Bowie', '1969-11-14', 17)"
      ]
     },
     "execution_count": 4,
     "metadata": {},
     "output_type": "execute_result"
    }
   ],
   "source": [
    "discography[0]"
   ]
  },
  {
   "cell_type": "markdown",
   "id": "dacaa44a-f5ea-4188-85f1-63c187866f46",
   "metadata": {},
   "source": [
    "***Display the first element from the first tuple in the list***"
   ]
  },
  {
   "cell_type": "code",
   "execution_count": 5,
   "id": "c7938624-3278-4be6-8395-0c08d0210a11",
   "metadata": {},
   "outputs": [
    {
     "data": {
      "text/plain": [
       "'David Bowie'"
      ]
     },
     "execution_count": 5,
     "metadata": {},
     "output_type": "execute_result"
    }
   ],
   "source": [
    "discography[0][0]"
   ]
  },
  {
   "cell_type": "markdown",
   "id": "7dc4d80e-7d61-4d99-b747-f4b4755e89c3",
   "metadata": {},
   "source": [
    "***Display the second element from the first tuple in the list***"
   ]
  },
  {
   "cell_type": "code",
   "execution_count": 6,
   "id": "e77ca177-4755-42ee-8636-3890cc8f50ac",
   "metadata": {},
   "outputs": [
    {
     "data": {
      "text/plain": [
       "numpy.datetime64('1969-11-14')"
      ]
     },
     "execution_count": 6,
     "metadata": {},
     "output_type": "execute_result"
    }
   ],
   "source": [
    "discography[0][1]"
   ]
  },
  {
   "cell_type": "code",
   "execution_count": 7,
   "id": "c15b7d20-07cb-44ab-a143-4fb52f96c583",
   "metadata": {},
   "outputs": [
    {
     "data": {
      "text/plain": [
       "'David Bowie'"
      ]
     },
     "execution_count": 7,
     "metadata": {},
     "output_type": "execute_result"
    }
   ],
   "source": [
    "discography[0]['title']"
   ]
  },
  {
   "cell_type": "markdown",
   "id": "dca048d5-c4a2-46ca-80b8-8429dca926e1",
   "metadata": {},
   "source": [
    "***Get all the titles from all tuples in the list***"
   ]
  },
  {
   "cell_type": "code",
   "execution_count": 8,
   "id": "56fef7c1-5130-4e19-b44d-72312e0c443b",
   "metadata": {},
   "outputs": [
    {
     "data": {
      "text/plain": [
       "array(['David Bowie', 'The Man Who Sold the World', 'Hunky Dory',\n",
       "       'Ziggy Stardust', 'Aladdin Sane', 'Pin Ups', 'Diamond Dogs',\n",
       "       'Young Americans', 'Station To Station', 'Low', 'Heroes', 'Lodger'],\n",
       "      dtype='<U32')"
      ]
     },
     "execution_count": 8,
     "metadata": {},
     "output_type": "execute_result"
    }
   ],
   "source": [
    "discography['title']"
   ]
  },
  {
   "cell_type": "markdown",
   "id": "8113c5e7-ec86-42f7-b3af-ad83b9e75d92",
   "metadata": {},
   "source": [
    "***Structured array named minidisco with two fields: 'title' and 'release'.***"
   ]
  },
  {
   "cell_type": "code",
   "execution_count": 10,
   "id": "cca15c71-9098-4c72-a1ee-44d36158d938",
   "metadata": {},
   "outputs": [],
   "source": [
    "minidisco = np.zeros(len(discography), dtype=[('title', 'U16'), ('release', 'M8[s]')])"
   ]
  },
  {
   "cell_type": "markdown",
   "id": "6ab37b19-584b-49b9-9c84-c84ec32f89ab",
   "metadata": {},
   "source": [
    "***Copy the titles and release data from discography and set them to minidisco***"
   ]
  },
  {
   "cell_type": "code",
   "execution_count": 14,
   "id": "8de52442-07ba-4295-a235-34ae632e15dc",
   "metadata": {},
   "outputs": [],
   "source": [
    "minidisco['title'] = discography['title']\n",
    "minidisco['release'] = discography['release']"
   ]
  },
  {
   "cell_type": "code",
   "execution_count": 15,
   "id": "9868a3e4-b3b8-4639-b651-c2defc33dbd2",
   "metadata": {},
   "outputs": [
    {
     "data": {
      "text/plain": [
       "array([('David Bowie', '1969-11-14T00:00:00'),\n",
       "       ('The Man Who Sold', '1970-11-04T00:00:00'),\n",
       "       ('Hunky Dory', '1971-12-17T00:00:00'),\n",
       "       ('Ziggy Stardust', '1972-06-16T00:00:00'),\n",
       "       ('Aladdin Sane', '1973-04-13T00:00:00'),\n",
       "       ('Pin Ups', '1973-10-19T00:00:00'),\n",
       "       ('Diamond Dogs', '1974-05-24T00:00:00'),\n",
       "       ('Young Americans', '1975-03-07T00:00:00'),\n",
       "       ('Station To Stati', '1976-01-23T00:00:00'),\n",
       "       ('Low', '1977-01-14T00:00:00'), ('Heroes', '1977-10-14T00:00:00'),\n",
       "       ('Lodger', '1979-05-18T00:00:00')],\n",
       "      dtype=[('title', '<U16'), ('release', '<M8[s]')])"
      ]
     },
     "execution_count": 15,
     "metadata": {},
     "output_type": "execute_result"
    }
   ],
   "source": [
    "minidisco"
   ]
  },
  {
   "cell_type": "code",
   "execution_count": 16,
   "id": "c566ebc6-8657-44b4-9236-baeb06c08e0e",
   "metadata": {},
   "outputs": [
    {
     "data": {
      "text/plain": [
       "numpy.datetime64('1969')"
      ]
     },
     "execution_count": 16,
     "metadata": {},
     "output_type": "execute_result"
    }
   ],
   "source": [
    "np.datetime64('1969')"
   ]
  },
  {
   "cell_type": "code",
   "execution_count": 18,
   "id": "de055f9e-86e9-4e21-9c7b-01b4e35856e7",
   "metadata": {},
   "outputs": [
    {
     "data": {
      "text/plain": [
       "numpy.datetime64('1971-12-11')"
      ]
     },
     "execution_count": 18,
     "metadata": {},
     "output_type": "execute_result"
    }
   ],
   "source": [
    "np.datetime64('1971-12-11')"
   ]
  },
  {
   "cell_type": "code",
   "execution_count": 19,
   "id": "f960fca7-d4e5-4201-ae6b-f88d11c1e18b",
   "metadata": {},
   "outputs": [
    {
     "data": {
      "text/plain": [
       "numpy.datetime64('2024-12-04T13:30')"
      ]
     },
     "execution_count": 19,
     "metadata": {},
     "output_type": "execute_result"
    }
   ],
   "source": [
    "np.datetime64('2024-12-04 13:30')"
   ]
  },
  {
   "cell_type": "markdown",
   "id": "598ac094-1c64-47d1-b0cd-277521675b54",
   "metadata": {},
   "source": [
    "***Check to see if date and time is less thant the date and time on the right***"
   ]
  },
  {
   "cell_type": "code",
   "execution_count": 20,
   "id": "e88365e7-92d0-4fc3-9ace-0f455de15e81",
   "metadata": {},
   "outputs": [
    {
     "data": {
      "text/plain": [
       "True"
      ]
     },
     "execution_count": 20,
     "metadata": {},
     "output_type": "execute_result"
    }
   ],
   "source": [
    "np.datetime64('2015-02-03 12:00') < np.datetime64('2015-02-03 18:00')"
   ]
  },
  {
   "cell_type": "code",
   "execution_count": 27,
   "id": "63959135-4ce5-4b43-b627-d9a58057681a",
   "metadata": {},
   "outputs": [
    {
     "data": {
      "text/plain": [
       "array([355, 408, 182, 301, 189, 217, 287, 322, 357, 273, 581],\n",
       "      dtype='timedelta64[D]')"
      ]
     },
     "execution_count": 27,
     "metadata": {},
     "output_type": "execute_result"
    }
   ],
   "source": [
    "np.diff(discography['release'])"
   ]
  },
  {
   "cell_type": "markdown",
   "id": "fc2edf95-d74d-4924-b4d6-bde66f93ead0",
   "metadata": {},
   "source": [
    "***Generate an array of datetime64 values within a specified range. You can achieve this using NumPy's np.arange() function with datetime64 values as the start and stop arguments.***\n",
    "\n",
    "***This will create an array date_range containing datetime64 values starting from '2015-02-03' (inclusive) up to, but not including, '2015-03-01'.***"
   ]
  },
  {
   "cell_type": "code",
   "execution_count": 28,
   "id": "92e05f38-ba3d-4d76-b51d-489464b561bb",
   "metadata": {},
   "outputs": [
    {
     "data": {
      "text/plain": [
       "array(['2015-02-03', '2015-02-04', '2015-02-05', '2015-02-06',\n",
       "       '2015-02-07', '2015-02-08', '2015-02-09', '2015-02-10',\n",
       "       '2015-02-11', '2015-02-12', '2015-02-13', '2015-02-14',\n",
       "       '2015-02-15', '2015-02-16', '2015-02-17', '2015-02-18',\n",
       "       '2015-02-19', '2015-02-20', '2015-02-21', '2015-02-22',\n",
       "       '2015-02-23', '2015-02-24', '2015-02-25', '2015-02-26',\n",
       "       '2015-02-27', '2015-02-28'], dtype='datetime64[D]')"
      ]
     },
     "execution_count": 28,
     "metadata": {},
     "output_type": "execute_result"
    }
   ],
   "source": [
    "np.arange(np.datetime64('2015-02-03'), np.datetime64('2015-03-01'))"
   ]
  },
  {
   "cell_type": "code",
   "execution_count": null,
   "id": "4b1a6d78-32b3-4667-96c1-14ed970d2bcf",
   "metadata": {},
   "outputs": [],
   "source": []
  }
 ],
 "metadata": {
  "kernelspec": {
   "display_name": "Python 3 (ipykernel)",
   "language": "python",
   "name": "python3"
  },
  "language_info": {
   "codemirror_mode": {
    "name": "ipython",
    "version": 3
   },
   "file_extension": ".py",
   "mimetype": "text/x-python",
   "name": "python",
   "nbconvert_exporter": "python",
   "pygments_lexer": "ipython3",
   "version": "3.11.7"
  }
 },
 "nbformat": 4,
 "nbformat_minor": 5
}
