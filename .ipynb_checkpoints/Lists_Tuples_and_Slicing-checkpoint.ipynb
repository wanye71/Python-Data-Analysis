{
 "cells": [
  {
   "cell_type": "markdown",
   "id": "baf66710-4c69-4a30-89b6-52cf007e2e21",
   "metadata": {},
   "source": [
    "# Lists, Tuples and Slicing Syntax"
   ]
  },
  {
   "cell_type": "code",
   "execution_count": 3,
   "id": "926ec64a-d700-4bd7-abcf-704bcbdb079d",
   "metadata": {},
   "outputs": [],
   "source": [
    "import math\n",
    "import collections\n",
    "\n",
    "import numpy as np\n",
    "import pandas as pd\n",
    "import matplotlib.pyplot as pp"
   ]
  },
  {
   "cell_type": "markdown",
   "id": "6d6c244b-8c3b-412a-81bb-f39142d648d7",
   "metadata": {},
   "source": [
    "## List"
   ]
  },
  {
   "cell_type": "code",
   "execution_count": 13,
   "id": "46586f25-ec8f-42e7-9c1b-30fdd64acee0",
   "metadata": {},
   "outputs": [],
   "source": [
    "nephews = [\"Huey\", \"Dewey\", \"Louie\"]"
   ]
  },
  {
   "cell_type": "code",
   "execution_count": 14,
   "id": "b04d9c22-29c7-4443-9dd4-079237a189f4",
   "metadata": {},
   "outputs": [
    {
     "data": {
      "text/plain": [
       "['Huey', 'Dewey', 'Louie']"
      ]
     },
     "execution_count": 14,
     "metadata": {},
     "output_type": "execute_result"
    }
   ],
   "source": [
    "nephews"
   ]
  },
  {
   "cell_type": "markdown",
   "id": "8ed24ea9-4964-4537-958c-39821c18dd63",
   "metadata": {},
   "source": [
    "## Get the length of a list"
   ]
  },
  {
   "cell_type": "code",
   "execution_count": 10,
   "id": "1dcd3537-a058-4133-8498-472d27aca217",
   "metadata": {},
   "outputs": [
    {
     "data": {
      "text/plain": [
       "3"
      ]
     },
     "execution_count": 10,
     "metadata": {},
     "output_type": "execute_result"
    }
   ],
   "source": [
    "len(nephews)"
   ]
  },
  {
   "cell_type": "markdown",
   "id": "df7a749b-91da-43b6-99e2-beff704a6adf",
   "metadata": {},
   "source": [
    "## Indexing to get individual elements of a list"
   ]
  },
  {
   "cell_type": "code",
   "execution_count": 9,
   "id": "8fc4484f-00f1-4278-9dd4-28cf07084c61",
   "metadata": {},
   "outputs": [
    {
     "data": {
      "text/plain": [
       "'Huey'"
      ]
     },
     "execution_count": 9,
     "metadata": {},
     "output_type": "execute_result"
    }
   ],
   "source": [
    "nephews[0]"
   ]
  },
  {
   "cell_type": "code",
   "execution_count": 16,
   "id": "fa4c3677-1f2b-4f1a-b08f-186dfac811e3",
   "metadata": {},
   "outputs": [
    {
     "data": {
      "text/plain": [
       "'Louie'"
      ]
     },
     "execution_count": 16,
     "metadata": {},
     "output_type": "execute_result"
    }
   ],
   "source": [
    "nephews[2]"
   ]
  },
  {
   "cell_type": "markdown",
   "id": "7e5d47fd-5346-4e5c-b898-9d6f73db8867",
   "metadata": {},
   "source": [
    "## Invalid because position does not exist"
   ]
  },
  {
   "cell_type": "code",
   "execution_count": 15,
   "id": "cba08935-56ab-41e7-b5b9-c12256e9452c",
   "metadata": {},
   "outputs": [
    {
     "ename": "IndexError",
     "evalue": "list index out of range",
     "output_type": "error",
     "traceback": [
      "\u001b[1;31m---------------------------------------------------------------------------\u001b[0m",
      "\u001b[1;31mIndexError\u001b[0m                                Traceback (most recent call last)",
      "Cell \u001b[1;32mIn[15], line 1\u001b[0m\n\u001b[1;32m----> 1\u001b[0m nephews[\u001b[38;5;241m3\u001b[39m]\n",
      "\u001b[1;31mIndexError\u001b[0m: list index out of range"
     ]
    }
   ],
   "source": [
    "nephews[3]"
   ]
  },
  {
   "cell_type": "markdown",
   "id": "3277fa5a-0d76-4700-a0c4-e356971c195c",
   "metadata": {},
   "source": [
    "## Imdexing from the end of a list"
   ]
  },
  {
   "cell_type": "code",
   "execution_count": 17,
   "id": "1aca0525-0bbb-4555-93c8-e6264e03c491",
   "metadata": {},
   "outputs": [
    {
     "data": {
      "text/plain": [
       "('Louie', 'Dewey')"
      ]
     },
     "execution_count": 17,
     "metadata": {},
     "output_type": "execute_result"
    }
   ],
   "source": [
    "nephews[-1], nephews[-2]"
   ]
  },
  {
   "cell_type": "markdown",
   "id": "fb0dca1d-b057-474f-b408-b77e83b0f239",
   "metadata": {},
   "source": [
    "## Bracket indexing notation used for reassignment"
   ]
  },
  {
   "cell_type": "code",
   "execution_count": 19,
   "id": "7aa978d2-09c6-4636-b153-d013d572ef18",
   "metadata": {},
   "outputs": [],
   "source": [
    "for i in range(3):\n",
    "    nephews[i] = nephews[i] + ' Duck'"
   ]
  },
  {
   "cell_type": "code",
   "execution_count": 20,
   "id": "44ad4074-6cb7-4a0b-b687-2c4261520a41",
   "metadata": {},
   "outputs": [
    {
     "data": {
      "text/plain": [
       "['Huey Duck', 'Dewey Duck', 'Louie Duck']"
      ]
     },
     "execution_count": 20,
     "metadata": {},
     "output_type": "execute_result"
    }
   ],
   "source": [
    "nephews"
   ]
  },
  {
   "cell_type": "markdown",
   "id": "149f88a5-9a6c-4663-8ba2-7bbf87a15d18",
   "metadata": {},
   "source": [
    "## Mixed list with numbers, lists and strings"
   ]
  },
  {
   "cell_type": "code",
   "execution_count": 21,
   "id": "2915e453-9024-478a-9ca4-9b2e5891d154",
   "metadata": {},
   "outputs": [],
   "source": [
    "mix_it_up = [1, [2,3], 'alpha']"
   ]
  },
  {
   "cell_type": "code",
   "execution_count": 22,
   "id": "6343272f-e65b-4c8b-bc11-1b25b6905cd8",
   "metadata": {},
   "outputs": [
    {
     "data": {
      "text/plain": [
       "[1, [2, 3], 'alpha']"
      ]
     },
     "execution_count": 22,
     "metadata": {},
     "output_type": "execute_result"
    }
   ],
   "source": [
    "mix_it_up"
   ]
  },
  {
   "cell_type": "markdown",
   "id": "b7c1f32b-0ebd-4c72-8a4d-49e8d0ae89c4",
   "metadata": {},
   "source": [
    "## Add element to the end of a list"
   ]
  },
  {
   "cell_type": "code",
   "execution_count": 28,
   "id": "3af0b4e3-e48e-4b2b-9b52-3e9d63851202",
   "metadata": {},
   "outputs": [],
   "source": [
    "nephews.append('April Duck')"
   ]
  },
  {
   "cell_type": "code",
   "execution_count": 24,
   "id": "42abbd95-a8dd-433a-b262-a5e93c3a3004",
   "metadata": {},
   "outputs": [
    {
     "data": {
      "text/plain": [
       "['Huey Duck', 'Dewey Duck', 'Louie Duck']"
      ]
     },
     "execution_count": 24,
     "metadata": {},
     "output_type": "execute_result"
    }
   ],
   "source": [
    "nephews"
   ]
  },
  {
   "cell_type": "markdown",
   "id": "f603ccf1-3764-4171-b0c6-94a0009f8652",
   "metadata": {},
   "source": [
    "## Add multiple elements "
   ]
  },
  {
   "cell_type": "code",
   "execution_count": 25,
   "id": "b796f9f6-7633-4e00-a3e7-6d4bcce79d94",
   "metadata": {},
   "outputs": [],
   "source": [
    "nephews.extend(['May Duck', 'June Duck'])"
   ]
  },
  {
   "cell_type": "code",
   "execution_count": 26,
   "id": "59f8dd33-17a1-493d-a790-a015c8a6970b",
   "metadata": {},
   "outputs": [
    {
     "data": {
      "text/plain": [
       "['Huey Duck', 'Dewey Duck', 'Louie Duck', 'May Duck', 'June Duck']"
      ]
     },
     "execution_count": 26,
     "metadata": {},
     "output_type": "execute_result"
    }
   ],
   "source": [
    "nephews"
   ]
  },
  {
   "cell_type": "markdown",
   "id": "8262e788-bd0f-45db-a18c-043ba46a46ec",
   "metadata": {},
   "source": [
    "## Concatenate Lists"
   ]
  },
  {
   "cell_type": "code",
   "execution_count": 29,
   "id": "d955e6a3-ef7e-4f5b-a776-fa90dc28a23d",
   "metadata": {},
   "outputs": [],
   "source": [
    "ducks = nephews + ['Donald Duck', 'Daisy Duck']"
   ]
  },
  {
   "cell_type": "code",
   "execution_count": 30,
   "id": "17677d92-d1d5-4e91-9d1b-6f98cd9bf161",
   "metadata": {},
   "outputs": [
    {
     "data": {
      "text/plain": [
       "['Huey Duck',\n",
       " 'Dewey Duck',\n",
       " 'Louie Duck',\n",
       " 'May Duck',\n",
       " 'June Duck',\n",
       " 'April Duck',\n",
       " 'Donald Duck',\n",
       " 'Daisy Duck']"
      ]
     },
     "execution_count": 30,
     "metadata": {},
     "output_type": "execute_result"
    }
   ],
   "source": [
    "ducks"
   ]
  },
  {
   "cell_type": "markdown",
   "id": "1e78e92e-d6db-43a4-81eb-9571992dc86f",
   "metadata": {},
   "source": [
    "## Insert elements into any position of a list"
   ]
  },
  {
   "cell_type": "code",
   "execution_count": 31,
   "id": "874d4a08-0198-4d63-ab09-4bd5676dd5e0",
   "metadata": {},
   "outputs": [],
   "source": [
    "ducks.insert(0, 'Scrooge McDuck')"
   ]
  },
  {
   "cell_type": "code",
   "execution_count": 32,
   "id": "62df62eb-5f6e-4a70-8884-a3a3c9663083",
   "metadata": {},
   "outputs": [
    {
     "data": {
      "text/plain": [
       "['Scrooge McDuck',\n",
       " 'Huey Duck',\n",
       " 'Dewey Duck',\n",
       " 'Louie Duck',\n",
       " 'May Duck',\n",
       " 'June Duck',\n",
       " 'April Duck',\n",
       " 'Donald Duck',\n",
       " 'Daisy Duck']"
      ]
     },
     "execution_count": 32,
     "metadata": {},
     "output_type": "execute_result"
    }
   ],
   "source": [
    "ducks"
   ]
  },
  {
   "cell_type": "markdown",
   "id": "566ea892-fe76-4961-99fc-a4e3f4793189",
   "metadata": {},
   "source": [
    "## Delete elements at any position"
   ]
  },
  {
   "cell_type": "code",
   "execution_count": 33,
   "id": "afa44170-757e-4cc5-91ea-de820bc0643a",
   "metadata": {},
   "outputs": [],
   "source": [
    "del ducks[0]"
   ]
  },
  {
   "cell_type": "code",
   "execution_count": 34,
   "id": "5710acb2-b6fe-4a74-a363-e8ccb319b1f3",
   "metadata": {},
   "outputs": [
    {
     "data": {
      "text/plain": [
       "['Huey Duck',\n",
       " 'Dewey Duck',\n",
       " 'Louie Duck',\n",
       " 'May Duck',\n",
       " 'June Duck',\n",
       " 'April Duck',\n",
       " 'Donald Duck',\n",
       " 'Daisy Duck']"
      ]
     },
     "execution_count": 34,
     "metadata": {},
     "output_type": "execute_result"
    }
   ],
   "source": [
    "ducks"
   ]
  },
  {
   "cell_type": "markdown",
   "id": "9193321a-67e4-4523-b80c-cb1512b091af",
   "metadata": {},
   "source": [
    "## Remove/Delete elements based on their values"
   ]
  },
  {
   "cell_type": "code",
   "execution_count": 35,
   "id": "5c0620a4-1491-4f2f-be78-e75eeb4023df",
   "metadata": {},
   "outputs": [],
   "source": [
    "ducks.remove('Donald Duck')"
   ]
  },
  {
   "cell_type": "code",
   "execution_count": 36,
   "id": "71dc23d5-3ea7-4e61-908e-b4eb73473519",
   "metadata": {},
   "outputs": [
    {
     "data": {
      "text/plain": [
       "['Huey Duck',\n",
       " 'Dewey Duck',\n",
       " 'Louie Duck',\n",
       " 'May Duck',\n",
       " 'June Duck',\n",
       " 'April Duck',\n",
       " 'Daisy Duck']"
      ]
     },
     "execution_count": 36,
     "metadata": {},
     "output_type": "execute_result"
    }
   ],
   "source": [
    "ducks"
   ]
  },
  {
   "cell_type": "markdown",
   "id": "54035b55-f99a-4495-83b7-ddc2440d89db",
   "metadata": {},
   "source": [
    "## Sort list Asscending"
   ]
  },
  {
   "cell_type": "code",
   "execution_count": 40,
   "id": "dce0cd0a-e58d-45cf-8f31-a0e2283056b9",
   "metadata": {},
   "outputs": [],
   "source": [
    "ducks.sort()"
   ]
  },
  {
   "cell_type": "code",
   "execution_count": 41,
   "id": "7005e007-4850-4b08-9992-df740f0e71e2",
   "metadata": {},
   "outputs": [
    {
     "data": {
      "text/plain": [
       "['April Duck',\n",
       " 'Daisy Duck',\n",
       " 'Dewey Duck',\n",
       " 'Huey Duck',\n",
       " 'June Duck',\n",
       " 'Louie Duck',\n",
       " 'May Duck']"
      ]
     },
     "execution_count": 41,
     "metadata": {},
     "output_type": "execute_result"
    }
   ],
   "source": [
    "ducks"
   ]
  },
  {
   "cell_type": "markdown",
   "id": "a9a78415-afa5-4d8a-bac8-403e702baab9",
   "metadata": {},
   "source": [
    "## Reverse sort elements in a list"
   ]
  },
  {
   "cell_type": "code",
   "execution_count": 37,
   "id": "dfcc7059-64e9-4d4f-956c-c60815380248",
   "metadata": {},
   "outputs": [],
   "source": [
    "reverse_ducks = sorted(ducks, reverse=True)"
   ]
  },
  {
   "cell_type": "code",
   "execution_count": 38,
   "id": "5b460348-cccd-48c5-a4a9-3aa044962ad1",
   "metadata": {
    "scrolled": true
   },
   "outputs": [
    {
     "data": {
      "text/plain": [
       "['May Duck',\n",
       " 'Louie Duck',\n",
       " 'June Duck',\n",
       " 'Huey Duck',\n",
       " 'Dewey Duck',\n",
       " 'Daisy Duck',\n",
       " 'April Duck']"
      ]
     },
     "execution_count": 38,
     "metadata": {},
     "output_type": "execute_result"
    }
   ],
   "source": [
    "reverse_ducks"
   ]
  },
  {
   "cell_type": "markdown",
   "id": "2ee90644-b881-4b16-9df3-4677144312ff",
   "metadata": {},
   "source": [
    "## Slicing a list"
   ]
  },
  {
   "cell_type": "code",
   "execution_count": 42,
   "id": "f57cca96-5fec-43b9-acc8-f656bb4977d3",
   "metadata": {},
   "outputs": [],
   "source": [
    "squares = [1,4,9,16,25,36,49]"
   ]
  },
  {
   "cell_type": "code",
   "execution_count": 43,
   "id": "6b16ec0a-8342-4bdc-aadf-c756ab7693e5",
   "metadata": {},
   "outputs": [
    {
     "data": {
      "text/plain": [
       "[1, 4]"
      ]
     },
     "execution_count": 43,
     "metadata": {},
     "output_type": "execute_result"
    }
   ],
   "source": [
    "squares[0:2]"
   ]
  },
  {
   "cell_type": "code",
   "execution_count": 44,
   "id": "c526f78e-0541-4025-9cbb-5d2efe6239ab",
   "metadata": {},
   "outputs": [
    {
     "data": {
      "text/plain": [
       "[1, 4, 9, 16]"
      ]
     },
     "execution_count": 44,
     "metadata": {},
     "output_type": "execute_result"
    }
   ],
   "source": [
    "squares[:4]"
   ]
  },
  {
   "cell_type": "code",
   "execution_count": 45,
   "id": "b614e003-3dc7-478b-85ac-f51b9a79829f",
   "metadata": {},
   "outputs": [
    {
     "data": {
      "text/plain": [
       "[16, 25, 36, 49]"
      ]
     },
     "execution_count": 45,
     "metadata": {},
     "output_type": "execute_result"
    }
   ],
   "source": [
    "squares[3:]"
   ]
  },
  {
   "cell_type": "code",
   "execution_count": 47,
   "id": "282c75a1-6587-45e2-9fa6-78c1aea8ce3c",
   "metadata": {},
   "outputs": [
    {
     "data": {
      "text/plain": [
       "[1, 4, 9, 16, 25, 36, 49]"
      ]
     },
     "execution_count": 47,
     "metadata": {},
     "output_type": "execute_result"
    }
   ],
   "source": [
    "squares[:]"
   ]
  },
  {
   "cell_type": "code",
   "execution_count": 48,
   "id": "555fc45d-3fc8-46fb-9d3d-151062cbcd58",
   "metadata": {},
   "outputs": [
    {
     "data": {
      "text/plain": [
       "[1, 9, 25, 49]"
      ]
     },
     "execution_count": 48,
     "metadata": {},
     "output_type": "execute_result"
    }
   ],
   "source": [
    "# Move through the list in steps\n",
    "squares[0:7:2]"
   ]
  },
  {
   "cell_type": "code",
   "execution_count": 49,
   "id": "d6b0423a-399b-4a76-bf85-86cfc3036a5f",
   "metadata": {},
   "outputs": [
    {
     "data": {
      "text/plain": [
       "[25, 36]"
      ]
     },
     "execution_count": 49,
     "metadata": {},
     "output_type": "execute_result"
    }
   ],
   "source": [
    "squares[-3:-1]"
   ]
  },
  {
   "cell_type": "code",
   "execution_count": 58,
   "id": "ca93f532-92aa-4018-a60a-40454e658c50",
   "metadata": {},
   "outputs": [],
   "source": [
    "squares[2:4] = ['four', 'nine']"
   ]
  },
  {
   "cell_type": "code",
   "execution_count": 51,
   "id": "28e06fdf-b8fa-47c4-92a4-470418afda3a",
   "metadata": {},
   "outputs": [
    {
     "data": {
      "text/plain": [
       "[1, 4, 'four', 'nine', 25, 36, 49]"
      ]
     },
     "execution_count": 51,
     "metadata": {},
     "output_type": "execute_result"
    }
   ],
   "source": [
    "squares"
   ]
  },
  {
   "cell_type": "code",
   "execution_count": 59,
   "id": "af66e39e-1203-4b1d-a05b-2db7a25d645e",
   "metadata": {},
   "outputs": [],
   "source": [
    "del squares[4:6]"
   ]
  },
  {
   "cell_type": "code",
   "execution_count": 60,
   "id": "4922c60b-4b6c-439e-b3dd-081f15637fcb",
   "metadata": {},
   "outputs": [
    {
     "data": {
      "text/plain": [
       "[1, 4, 'four', 'nine']"
      ]
     },
     "execution_count": 60,
     "metadata": {},
     "output_type": "execute_result"
    }
   ],
   "source": [
    "squares"
   ]
  },
  {
   "cell_type": "code",
   "execution_count": 54,
   "id": "bf16303b-e82f-449a-b894-92141d43fc50",
   "metadata": {},
   "outputs": [
    {
     "data": {
      "text/plain": [
       "0"
      ]
     },
     "execution_count": 54,
     "metadata": {},
     "output_type": "execute_result"
    }
   ],
   "source": [
    "len([])"
   ]
  },
  {
   "cell_type": "code",
   "execution_count": 62,
   "id": "f8d4c88e-7772-4b86-be8b-c43d2cea616c",
   "metadata": {},
   "outputs": [],
   "source": [
    "intergers =('one', 'two', 'three', 'four')"
   ]
  },
  {
   "cell_type": "code",
   "execution_count": 63,
   "id": "f0a2c54e-e9fa-4543-a7ca-1d019575dd3e",
   "metadata": {},
   "outputs": [
    {
     "data": {
      "text/plain": [
       "('one', 'two', 'three', 'four')"
      ]
     },
     "execution_count": 63,
     "metadata": {},
     "output_type": "execute_result"
    }
   ],
   "source": [
    "intergers"
   ]
  },
  {
   "cell_type": "code",
   "execution_count": 64,
   "id": "64b1ba3f-4d1f-4fab-87f1-a370909e538a",
   "metadata": {},
   "outputs": [
    {
     "data": {
      "text/plain": [
       "('four', ('two', 'three'))"
      ]
     },
     "execution_count": 64,
     "metadata": {},
     "output_type": "execute_result"
    }
   ],
   "source": [
    "intergers[-1], intergers[1:3]"
   ]
  },
  {
   "cell_type": "code",
   "execution_count": 65,
   "id": "a6a35958-07e6-406a-acad-42f4cc4f2efe",
   "metadata": {},
   "outputs": [
    {
     "ename": "TypeError",
     "evalue": "'tuple' object does not support item assignment",
     "output_type": "error",
     "traceback": [
      "\u001b[1;31m---------------------------------------------------------------------------\u001b[0m",
      "\u001b[1;31mTypeError\u001b[0m                                 Traceback (most recent call last)",
      "Cell \u001b[1;32mIn[65], line 1\u001b[0m\n\u001b[1;32m----> 1\u001b[0m intergers[\u001b[38;5;241m0\u001b[39m] \u001b[38;5;241m=\u001b[39m \u001b[38;5;241m1\u001b[39m\n",
      "\u001b[1;31mTypeError\u001b[0m: 'tuple' object does not support item assignment"
     ]
    }
   ],
   "source": [
    "intergers[0] = 1"
   ]
  },
  {
   "cell_type": "code",
   "execution_count": 66,
   "id": "b75568f2-0e2b-4550-aeb4-1a0ed8d783ca",
   "metadata": {},
   "outputs": [],
   "source": [
    "(a,b) = (1,2)"
   ]
  },
  {
   "cell_type": "code",
   "execution_count": 67,
   "id": "43c077c4-229a-4355-bb52-086b50d09bb7",
   "metadata": {},
   "outputs": [],
   "source": [
    "c, d = 3, 4"
   ]
  },
  {
   "cell_type": "code",
   "execution_count": 69,
   "id": "0b1b5be2-520d-4c14-bc53-8b5881651e2c",
   "metadata": {},
   "outputs": [
    {
     "name": "stdout",
     "output_type": "stream",
     "text": [
      "0 ['April Duck', 'Daisy Duck', 'Dewey Duck', 'Huey Duck', 'June Duck', 'Louie Duck', 'May Duck']\n",
      "1 ['April Duck', 'Daisy Duck', 'Dewey Duck', 'Huey Duck', 'June Duck', 'Louie Duck', 'May Duck']\n",
      "2 ['April Duck', 'Daisy Duck', 'Dewey Duck', 'Huey Duck', 'June Duck', 'Louie Duck', 'May Duck']\n",
      "3 ['April Duck', 'Daisy Duck', 'Dewey Duck', 'Huey Duck', 'June Duck', 'Louie Duck', 'May Duck']\n",
      "4 ['April Duck', 'Daisy Duck', 'Dewey Duck', 'Huey Duck', 'June Duck', 'Louie Duck', 'May Duck']\n",
      "5 ['April Duck', 'Daisy Duck', 'Dewey Duck', 'Huey Duck', 'June Duck', 'Louie Duck', 'May Duck']\n",
      "6 ['April Duck', 'Daisy Duck', 'Dewey Duck', 'Huey Duck', 'June Duck', 'Louie Duck', 'May Duck']\n"
     ]
    }
   ],
   "source": [
    "for i, duck in enumerate(ducks):\n",
    "    print(i, ducks)"
   ]
  },
  {
   "cell_type": "code",
   "execution_count": 70,
   "id": "cd9cf849-f6dc-414b-8319-a47958bff59c",
   "metadata": {},
   "outputs": [],
   "source": [
    "def three_args(a,b,c):\n",
    "    print(a,b,c)"
   ]
  },
  {
   "cell_type": "code",
   "execution_count": 71,
   "id": "0a3ffaf9-215b-4b48-bf35-d68e50e4468a",
   "metadata": {},
   "outputs": [],
   "source": [
    "my_args = (1,2,3)"
   ]
  },
  {
   "cell_type": "code",
   "execution_count": 73,
   "id": "9cbcfc42-c708-420a-99e5-26c731e5d164",
   "metadata": {},
   "outputs": [
    {
     "name": "stdout",
     "output_type": "stream",
     "text": [
      "1 2 3\n"
     ]
    }
   ],
   "source": [
    "three_args(*my_args)"
   ]
  },
  {
   "cell_type": "code",
   "execution_count": null,
   "id": "cc660f54-9467-4770-ac24-cb98b55f0e21",
   "metadata": {},
   "outputs": [],
   "source": []
  }
 ],
 "metadata": {
  "kernelspec": {
   "display_name": "Python 3 (ipykernel)",
   "language": "python",
   "name": "python3"
  },
  "language_info": {
   "codemirror_mode": {
    "name": "ipython",
    "version": 3
   },
   "file_extension": ".py",
   "mimetype": "text/x-python",
   "name": "python",
   "nbconvert_exporter": "python",
   "pygments_lexer": "ipython3",
   "version": "3.11.7"
  }
 },
 "nbformat": 4,
 "nbformat_minor": 5
}
