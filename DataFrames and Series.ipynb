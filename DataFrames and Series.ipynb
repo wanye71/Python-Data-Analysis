{
 "cells": [
  {
   "cell_type": "code",
   "execution_count": 1,
   "id": "3f811e90-966c-4353-962e-3f7884261871",
   "metadata": {},
   "outputs": [],
   "source": [
    "import math\n",
    "import collections\n",
    "\n",
    "import numpy as np\n",
    "import pandas as pd\n",
    "import matplotlib.pyplot as plt\n",
    "\n",
    "%matplotlib inline"
   ]
  },
  {
   "cell_type": "markdown",
   "id": "4e6009c6-d5b7-4670-aa3e-3ab3427300f5",
   "metadata": {},
   "source": [
    "***Setting pd.options.display.max_rows to 16 in pandas will adjust the maximum number of rows displayed when you output a DataFrame or Series in a Jupyter Notebook or a similar environment that uses pandas for tabular data display. With this setting, if a DataFrame or Series has more than 16 rows, only the first 16 rows and the last few rows will be displayed, with a \"...\" indicating that some rows have been omitted in between.***"
   ]
  },
  {
   "cell_type": "code",
   "execution_count": 3,
   "id": "edb5f2b2-e7d6-427e-9c57-9bc22e68e77f",
   "metadata": {},
   "outputs": [],
   "source": [
    "pd.options.display.max_rows = 16"
   ]
  },
  {
   "cell_type": "markdown",
   "id": "247d5e8a-d61f-483b-839b-4ec67c74283f",
   "metadata": {},
   "source": [
    "***Reading a CSV file named 'nobels.csv' into a pandas DataFrame called nobels with three columns: 'year', 'discipline', and 'nobelist'. By using the names parameter, you're specifying custom column names for the DataFrame. This can be useful if the CSV file doesn't have a header row, or if you want to override the existing column names.***"
   ]
  },
  {
   "cell_type": "code",
   "execution_count": 23,
   "id": "e92d7850-ba14-495e-b13f-cca9438d744d",
   "metadata": {},
   "outputs": [],
   "source": [
    "nobels = pd.read_csv('nobels.csv', names=['year', 'discipline', 'nobelist'])"
   ]
  },
  {
   "cell_type": "code",
   "execution_count": 24,
   "id": "7594a0f6-27e5-442e-bc06-759df6933c8e",
   "metadata": {},
   "outputs": [
    {
     "data": {
      "text/plain": [
       "(950, 3)"
      ]
     },
     "execution_count": 24,
     "metadata": {},
     "output_type": "execute_result"
    }
   ],
   "source": [
    "nobels.shape"
   ]
  },
  {
   "cell_type": "code",
   "execution_count": 25,
   "id": "e06a09ac-c456-4b9a-847f-ac1559ed3ac1",
   "metadata": {},
   "outputs": [
    {
     "name": "stdout",
     "output_type": "stream",
     "text": [
      "<class 'pandas.core.frame.DataFrame'>\n",
      "RangeIndex: 950 entries, 0 to 949\n",
      "Data columns (total 3 columns):\n",
      " #   Column      Non-Null Count  Dtype \n",
      "---  ------      --------------  ----- \n",
      " 0   year        950 non-null    int64 \n",
      " 1   discipline  950 non-null    object\n",
      " 2   nobelist    950 non-null    object\n",
      "dtypes: int64(1), object(2)\n",
      "memory usage: 22.4+ KB\n"
     ]
    }
   ],
   "source": [
    "nobels.info()"
   ]
  },
  {
   "cell_type": "code",
   "execution_count": 26,
   "id": "caa8de2d-e6bc-4fe6-8cff-3f98d1514381",
   "metadata": {},
   "outputs": [
    {
     "data": {
      "text/html": [
       "<div>\n",
       "<style scoped>\n",
       "    .dataframe tbody tr th:only-of-type {\n",
       "        vertical-align: middle;\n",
       "    }\n",
       "\n",
       "    .dataframe tbody tr th {\n",
       "        vertical-align: top;\n",
       "    }\n",
       "\n",
       "    .dataframe thead th {\n",
       "        text-align: right;\n",
       "    }\n",
       "</style>\n",
       "<table border=\"1\" class=\"dataframe\">\n",
       "  <thead>\n",
       "    <tr style=\"text-align: right;\">\n",
       "      <th></th>\n",
       "      <th>year</th>\n",
       "      <th>discipline</th>\n",
       "      <th>nobelist</th>\n",
       "    </tr>\n",
       "  </thead>\n",
       "  <tbody>\n",
       "    <tr>\n",
       "      <th>0</th>\n",
       "      <td>1901</td>\n",
       "      <td>Chemistry</td>\n",
       "      <td>Jacobus Henricus van 't Hoff</td>\n",
       "    </tr>\n",
       "    <tr>\n",
       "      <th>1</th>\n",
       "      <td>1901</td>\n",
       "      <td>Literature</td>\n",
       "      <td>Sully Prudhomme</td>\n",
       "    </tr>\n",
       "    <tr>\n",
       "      <th>2</th>\n",
       "      <td>1901</td>\n",
       "      <td>Medicine</td>\n",
       "      <td>Emil Adolf von Behring</td>\n",
       "    </tr>\n",
       "    <tr>\n",
       "      <th>3</th>\n",
       "      <td>1901</td>\n",
       "      <td>Peace</td>\n",
       "      <td>Frédéric Passy</td>\n",
       "    </tr>\n",
       "    <tr>\n",
       "      <th>4</th>\n",
       "      <td>1901</td>\n",
       "      <td>Peace</td>\n",
       "      <td>Henry Dunant</td>\n",
       "    </tr>\n",
       "  </tbody>\n",
       "</table>\n",
       "</div>"
      ],
      "text/plain": [
       "   year  discipline                      nobelist\n",
       "0  1901   Chemistry  Jacobus Henricus van 't Hoff\n",
       "1  1901  Literature               Sully Prudhomme\n",
       "2  1901    Medicine        Emil Adolf von Behring\n",
       "3  1901       Peace                Frédéric Passy\n",
       "4  1901       Peace                  Henry Dunant"
      ]
     },
     "execution_count": 26,
     "metadata": {},
     "output_type": "execute_result"
    }
   ],
   "source": [
    "nobels.head()"
   ]
  },
  {
   "cell_type": "code",
   "execution_count": 27,
   "id": "c74e75f8-8f68-4d3e-8d27-d5f374713b91",
   "metadata": {},
   "outputs": [
    {
     "data": {
      "text/html": [
       "<div>\n",
       "<style scoped>\n",
       "    .dataframe tbody tr th:only-of-type {\n",
       "        vertical-align: middle;\n",
       "    }\n",
       "\n",
       "    .dataframe tbody tr th {\n",
       "        vertical-align: top;\n",
       "    }\n",
       "\n",
       "    .dataframe thead th {\n",
       "        text-align: right;\n",
       "    }\n",
       "</style>\n",
       "<table border=\"1\" class=\"dataframe\">\n",
       "  <thead>\n",
       "    <tr style=\"text-align: right;\">\n",
       "      <th></th>\n",
       "      <th>year</th>\n",
       "      <th>discipline</th>\n",
       "      <th>nobelist</th>\n",
       "    </tr>\n",
       "  </thead>\n",
       "  <tbody>\n",
       "    <tr>\n",
       "      <th>945</th>\n",
       "      <td>2019</td>\n",
       "      <td>Medicine</td>\n",
       "      <td>William Kaelin Jr.</td>\n",
       "    </tr>\n",
       "    <tr>\n",
       "      <th>946</th>\n",
       "      <td>2019</td>\n",
       "      <td>Peace</td>\n",
       "      <td>Abiy Ahmed</td>\n",
       "    </tr>\n",
       "    <tr>\n",
       "      <th>947</th>\n",
       "      <td>2019</td>\n",
       "      <td>Physics</td>\n",
       "      <td>Didier Queloz</td>\n",
       "    </tr>\n",
       "    <tr>\n",
       "      <th>948</th>\n",
       "      <td>2019</td>\n",
       "      <td>Physics</td>\n",
       "      <td>James Peebles</td>\n",
       "    </tr>\n",
       "    <tr>\n",
       "      <th>949</th>\n",
       "      <td>2019</td>\n",
       "      <td>Physics</td>\n",
       "      <td>Michel Mayor</td>\n",
       "    </tr>\n",
       "  </tbody>\n",
       "</table>\n",
       "</div>"
      ],
      "text/plain": [
       "     year discipline            nobelist\n",
       "945  2019   Medicine  William Kaelin Jr.\n",
       "946  2019      Peace          Abiy Ahmed\n",
       "947  2019    Physics       Didier Queloz\n",
       "948  2019    Physics       James Peebles\n",
       "949  2019    Physics        Michel Mayor"
      ]
     },
     "execution_count": 27,
     "metadata": {},
     "output_type": "execute_result"
    }
   ],
   "source": [
    "nobels.tail()"
   ]
  },
  {
   "cell_type": "code",
   "execution_count": 28,
   "id": "0980e7c6-356d-4ffe-b98b-57c64c67e41b",
   "metadata": {},
   "outputs": [
    {
     "data": {
      "text/plain": [
       "950"
      ]
     },
     "execution_count": 28,
     "metadata": {},
     "output_type": "execute_result"
    }
   ],
   "source": [
    "len(nobels)"
   ]
  },
  {
   "cell_type": "code",
   "execution_count": 29,
   "id": "bb105ce9-d07b-4ea3-bb23-4a2510139a39",
   "metadata": {},
   "outputs": [
    {
     "data": {
      "text/plain": [
       "Index(['year', 'discipline', 'nobelist'], dtype='object')"
      ]
     },
     "execution_count": 29,
     "metadata": {},
     "output_type": "execute_result"
    }
   ],
   "source": [
    "nobels.columns"
   ]
  },
  {
   "cell_type": "code",
   "execution_count": 30,
   "id": "66e29a6e-f5e4-40fd-a2f0-5a20aa622fed",
   "metadata": {},
   "outputs": [
    {
     "data": {
      "text/plain": [
       "year           int64\n",
       "discipline    object\n",
       "nobelist      object\n",
       "dtype: object"
      ]
     },
     "execution_count": 30,
     "metadata": {},
     "output_type": "execute_result"
    }
   ],
   "source": [
    "nobels.dtypes"
   ]
  },
  {
   "cell_type": "code",
   "execution_count": 31,
   "id": "383425f8-6e42-4e8b-b795-989003b22b20",
   "metadata": {},
   "outputs": [
    {
     "data": {
      "text/plain": [
       "RangeIndex(start=0, stop=950, step=1)"
      ]
     },
     "execution_count": 31,
     "metadata": {},
     "output_type": "execute_result"
    }
   ],
   "source": [
    "nobels.index"
   ]
  },
  {
   "cell_type": "code",
   "execution_count": 32,
   "id": "f05bf6c4-5861-45fe-a9be-0011691c71ab",
   "metadata": {},
   "outputs": [
    {
     "data": {
      "text/plain": [
       "0       Chemistry\n",
       "1      Literature\n",
       "2        Medicine\n",
       "3           Peace\n",
       "4           Peace\n",
       "          ...    \n",
       "945      Medicine\n",
       "946         Peace\n",
       "947       Physics\n",
       "948       Physics\n",
       "949       Physics\n",
       "Name: discipline, Length: 950, dtype: object"
      ]
     },
     "execution_count": 32,
     "metadata": {},
     "output_type": "execute_result"
    }
   ],
   "source": [
    "nobels['discipline']"
   ]
  },
  {
   "cell_type": "code",
   "execution_count": 33,
   "id": "f1c08a57-73d0-4721-9ee3-e483928a02c8",
   "metadata": {},
   "outputs": [
    {
     "data": {
      "text/plain": [
       "0      Jacobus Henricus van 't Hoff\n",
       "1                   Sully Prudhomme\n",
       "2            Emil Adolf von Behring\n",
       "3                    Frédéric Passy\n",
       "4                      Henry Dunant\n",
       "                   ...             \n",
       "945              William Kaelin Jr.\n",
       "946                      Abiy Ahmed\n",
       "947                   Didier Queloz\n",
       "948                   James Peebles\n",
       "949                    Michel Mayor\n",
       "Name: nobelist, Length: 950, dtype: object"
      ]
     },
     "execution_count": 33,
     "metadata": {},
     "output_type": "execute_result"
    }
   ],
   "source": [
    "nobels.nobelist"
   ]
  },
  {
   "cell_type": "markdown",
   "id": "c23d3fd8-9c5d-4f38-b78c-ae4bec2bb845",
   "metadata": {},
   "source": [
    "***This code nobels.discipline.values[:50] is accessing the 'discipline' column of the DataFrame nobels and returning the values of the first 50 entries in that column as a NumPy array. It's a way to quickly inspect the disciplines of the Nobel laureates in the dataset.***"
   ]
  },
  {
   "cell_type": "code",
   "execution_count": 35,
   "id": "58da16c4-bf37-4e6a-aeb0-9b55813c2efb",
   "metadata": {},
   "outputs": [
    {
     "data": {
      "text/plain": [
       "array(['Chemistry', 'Literature', 'Medicine', 'Peace', 'Peace', 'Physics',\n",
       "       'Chemistry', 'Literature', 'Medicine', 'Peace', 'Peace', 'Physics',\n",
       "       'Physics', 'Chemistry', 'Literature', 'Medicine', 'Peace',\n",
       "       'Physics', 'Physics', 'Physics', 'Chemistry', 'Literature',\n",
       "       'Literature', 'Medicine', 'Peace', 'Physics', 'Chemistry',\n",
       "       'Literature', 'Medicine', 'Peace', 'Physics', 'Chemistry',\n",
       "       'Literature', 'Medicine', 'Medicine', 'Peace', 'Physics',\n",
       "       'Chemistry', 'Literature', 'Medicine', 'Peace', 'Peace', 'Physics',\n",
       "       'Chemistry', 'Literature', 'Medicine', 'Medicine', 'Peace',\n",
       "       'Peace', 'Physics'], dtype=object)"
      ]
     },
     "execution_count": 35,
     "metadata": {},
     "output_type": "execute_result"
    }
   ],
   "source": [
    "nobels.discipline.values[:50]"
   ]
  },
  {
   "cell_type": "markdown",
   "id": "2d9330c0-1ab3-4759-a640-2e1b3c6a569a",
   "metadata": {},
   "source": [
    "***This code nobels.discipline.unique() will return an array containing the unique values present in the 'discipline' column of the nobels DataFrame. It's useful for quickly understanding the different disciplines for which Nobel Prizes have been awarded in your dataset. You can use this to get an overview of the variety of disciplines represented among the Nobel laureates. If you run this code in your Python environment, you'll see the unique disciplines listed.***"
   ]
  },
  {
   "cell_type": "code",
   "execution_count": 36,
   "id": "82394f60-4918-4ea7-b72e-950ff1e047ac",
   "metadata": {},
   "outputs": [
    {
     "data": {
      "text/plain": [
       "array(['Chemistry', 'Literature', 'Medicine', 'Peace', 'Physics',\n",
       "       'Economics'], dtype=object)"
      ]
     },
     "execution_count": 36,
     "metadata": {},
     "output_type": "execute_result"
    }
   ],
   "source": [
    "nobels.discipline.unique()"
   ]
  },
  {
   "cell_type": "markdown",
   "id": "007a4f10-8524-4bed-be15-acf5c342f5a6",
   "metadata": {},
   "source": [
    "***This code nobels.nobelist.value_counts() will return a Series containing the count of occurrences of each unique value in the 'nobelist' column of the nobels DataFrame. It essentially shows how many Nobel Prizes each laureate has won according to your dataset.***\r\n",
    "***\r\n",
    "Running this code will give you a breakdown of the number of Nobel Prizes won by each Nobel laureate recorded in your dataset. It's useful for understanding which laureates have been most prolific in terms of winning Nobel Prize***s."
   ]
  },
  {
   "cell_type": "code",
   "execution_count": 37,
   "id": "f54a07c2-1064-4c88-bacd-7dfda688ce78",
   "metadata": {},
   "outputs": [
    {
     "data": {
      "text/plain": [
       "nobelist\n",
       "International Committee of the Red Cross         3\n",
       "John Bardeen                                     2\n",
       "Frederick Sanger                                 2\n",
       "Linus Pauling                                    2\n",
       "United Nations High Commissioner for Refugees    2\n",
       "                                                ..\n",
       "Peter Medawar                                    1\n",
       "Albert Lutuli                                    1\n",
       "Donald A. Glaser                                 1\n",
       "Melvin Calvin                                    1\n",
       "Michel Mayor                                     1\n",
       "Name: count, Length: 943, dtype: int64"
      ]
     },
     "execution_count": 37,
     "metadata": {},
     "output_type": "execute_result"
    }
   ],
   "source": [
    "nobels.nobelist.value_counts()"
   ]
  },
  {
   "cell_type": "markdown",
   "id": "ea7ec46a-579d-44f0-bc10-b3327c37c8e4",
   "metadata": {},
   "source": [
    "***Return all rows that contain the 'Physics' discipline***"
   ]
  },
  {
   "cell_type": "code",
   "execution_count": 39,
   "id": "282a5b41-2fdd-45ef-a49d-8b3dd2340e26",
   "metadata": {},
   "outputs": [
    {
     "data": {
      "text/html": [
       "<div>\n",
       "<style scoped>\n",
       "    .dataframe tbody tr th:only-of-type {\n",
       "        vertical-align: middle;\n",
       "    }\n",
       "\n",
       "    .dataframe tbody tr th {\n",
       "        vertical-align: top;\n",
       "    }\n",
       "\n",
       "    .dataframe thead th {\n",
       "        text-align: right;\n",
       "    }\n",
       "</style>\n",
       "<table border=\"1\" class=\"dataframe\">\n",
       "  <thead>\n",
       "    <tr style=\"text-align: right;\">\n",
       "      <th></th>\n",
       "      <th>year</th>\n",
       "      <th>discipline</th>\n",
       "      <th>nobelist</th>\n",
       "    </tr>\n",
       "  </thead>\n",
       "  <tbody>\n",
       "    <tr>\n",
       "      <th>5</th>\n",
       "      <td>1901</td>\n",
       "      <td>Physics</td>\n",
       "      <td>Wilhelm Röntgen</td>\n",
       "    </tr>\n",
       "    <tr>\n",
       "      <th>11</th>\n",
       "      <td>1902</td>\n",
       "      <td>Physics</td>\n",
       "      <td>Hendrik Lorentz</td>\n",
       "    </tr>\n",
       "    <tr>\n",
       "      <th>12</th>\n",
       "      <td>1902</td>\n",
       "      <td>Physics</td>\n",
       "      <td>Pieter Zeeman</td>\n",
       "    </tr>\n",
       "    <tr>\n",
       "      <th>17</th>\n",
       "      <td>1903</td>\n",
       "      <td>Physics</td>\n",
       "      <td>Henri Becquerel</td>\n",
       "    </tr>\n",
       "    <tr>\n",
       "      <th>18</th>\n",
       "      <td>1903</td>\n",
       "      <td>Physics</td>\n",
       "      <td>Marie Curie</td>\n",
       "    </tr>\n",
       "    <tr>\n",
       "      <th>...</th>\n",
       "      <td>...</td>\n",
       "      <td>...</td>\n",
       "      <td>...</td>\n",
       "    </tr>\n",
       "    <tr>\n",
       "      <th>934</th>\n",
       "      <td>2018</td>\n",
       "      <td>Physics</td>\n",
       "      <td>Donna Strickland</td>\n",
       "    </tr>\n",
       "    <tr>\n",
       "      <th>935</th>\n",
       "      <td>2018</td>\n",
       "      <td>Physics</td>\n",
       "      <td>Gérard Mourou</td>\n",
       "    </tr>\n",
       "    <tr>\n",
       "      <th>947</th>\n",
       "      <td>2019</td>\n",
       "      <td>Physics</td>\n",
       "      <td>Didier Queloz</td>\n",
       "    </tr>\n",
       "    <tr>\n",
       "      <th>948</th>\n",
       "      <td>2019</td>\n",
       "      <td>Physics</td>\n",
       "      <td>James Peebles</td>\n",
       "    </tr>\n",
       "    <tr>\n",
       "      <th>949</th>\n",
       "      <td>2019</td>\n",
       "      <td>Physics</td>\n",
       "      <td>Michel Mayor</td>\n",
       "    </tr>\n",
       "  </tbody>\n",
       "</table>\n",
       "<p>213 rows × 3 columns</p>\n",
       "</div>"
      ],
      "text/plain": [
       "     year discipline          nobelist\n",
       "5    1901    Physics   Wilhelm Röntgen\n",
       "11   1902    Physics   Hendrik Lorentz\n",
       "12   1902    Physics     Pieter Zeeman\n",
       "17   1903    Physics   Henri Becquerel\n",
       "18   1903    Physics       Marie Curie\n",
       "..    ...        ...               ...\n",
       "934  2018    Physics  Donna Strickland\n",
       "935  2018    Physics     Gérard Mourou\n",
       "947  2019    Physics     Didier Queloz\n",
       "948  2019    Physics     James Peebles\n",
       "949  2019    Physics      Michel Mayor\n",
       "\n",
       "[213 rows x 3 columns]"
      ]
     },
     "execution_count": 39,
     "metadata": {},
     "output_type": "execute_result"
    }
   ],
   "source": [
    "nobels[nobels.discipline == 'Physics']"
   ]
  },
  {
   "cell_type": "markdown",
   "id": "afe0f8e6-d246-42fc-beb4-89a784b36f42",
   "metadata": {},
   "source": [
    "***Return all rows when the discipline is equal to \"Chemestry\"***"
   ]
  },
  {
   "cell_type": "code",
   "execution_count": 41,
   "id": "7735bd06-1c5f-4448-bf72-2511ba551fbd",
   "metadata": {},
   "outputs": [
    {
     "data": {
      "text/html": [
       "<div>\n",
       "<style scoped>\n",
       "    .dataframe tbody tr th:only-of-type {\n",
       "        vertical-align: middle;\n",
       "    }\n",
       "\n",
       "    .dataframe tbody tr th {\n",
       "        vertical-align: top;\n",
       "    }\n",
       "\n",
       "    .dataframe thead th {\n",
       "        text-align: right;\n",
       "    }\n",
       "</style>\n",
       "<table border=\"1\" class=\"dataframe\">\n",
       "  <thead>\n",
       "    <tr style=\"text-align: right;\">\n",
       "      <th></th>\n",
       "      <th>year</th>\n",
       "      <th>discipline</th>\n",
       "      <th>nobelist</th>\n",
       "    </tr>\n",
       "  </thead>\n",
       "  <tbody>\n",
       "    <tr>\n",
       "      <th>0</th>\n",
       "      <td>1901</td>\n",
       "      <td>Chemistry</td>\n",
       "      <td>Jacobus Henricus van 't Hoff</td>\n",
       "    </tr>\n",
       "    <tr>\n",
       "      <th>6</th>\n",
       "      <td>1902</td>\n",
       "      <td>Chemistry</td>\n",
       "      <td>Hermann Emil Fischer</td>\n",
       "    </tr>\n",
       "    <tr>\n",
       "      <th>13</th>\n",
       "      <td>1903</td>\n",
       "      <td>Chemistry</td>\n",
       "      <td>Svante Arrhenius</td>\n",
       "    </tr>\n",
       "    <tr>\n",
       "      <th>20</th>\n",
       "      <td>1904</td>\n",
       "      <td>Chemistry</td>\n",
       "      <td>William Ramsay</td>\n",
       "    </tr>\n",
       "    <tr>\n",
       "      <th>26</th>\n",
       "      <td>1905</td>\n",
       "      <td>Chemistry</td>\n",
       "      <td>Adolf von Baeyer</td>\n",
       "    </tr>\n",
       "    <tr>\n",
       "      <th>...</th>\n",
       "      <td>...</td>\n",
       "      <td>...</td>\n",
       "      <td>...</td>\n",
       "    </tr>\n",
       "    <tr>\n",
       "      <th>924</th>\n",
       "      <td>2018</td>\n",
       "      <td>Chemistry</td>\n",
       "      <td>George P. Smith</td>\n",
       "    </tr>\n",
       "    <tr>\n",
       "      <th>925</th>\n",
       "      <td>2018</td>\n",
       "      <td>Chemistry</td>\n",
       "      <td>Greg Winter</td>\n",
       "    </tr>\n",
       "    <tr>\n",
       "      <th>936</th>\n",
       "      <td>2019</td>\n",
       "      <td>Chemistry</td>\n",
       "      <td>Akira Yoshino</td>\n",
       "    </tr>\n",
       "    <tr>\n",
       "      <th>937</th>\n",
       "      <td>2019</td>\n",
       "      <td>Chemistry</td>\n",
       "      <td>John B. Goodenough</td>\n",
       "    </tr>\n",
       "    <tr>\n",
       "      <th>938</th>\n",
       "      <td>2019</td>\n",
       "      <td>Chemistry</td>\n",
       "      <td>M. Stanley Whittingham</td>\n",
       "    </tr>\n",
       "  </tbody>\n",
       "</table>\n",
       "<p>184 rows × 3 columns</p>\n",
       "</div>"
      ],
      "text/plain": [
       "     year discipline                      nobelist\n",
       "0    1901  Chemistry  Jacobus Henricus van 't Hoff\n",
       "6    1902  Chemistry          Hermann Emil Fischer\n",
       "13   1903  Chemistry              Svante Arrhenius\n",
       "20   1904  Chemistry                William Ramsay\n",
       "26   1905  Chemistry              Adolf von Baeyer\n",
       "..    ...        ...                           ...\n",
       "924  2018  Chemistry               George P. Smith\n",
       "925  2018  Chemistry                   Greg Winter\n",
       "936  2019  Chemistry                 Akira Yoshino\n",
       "937  2019  Chemistry            John B. Goodenough\n",
       "938  2019  Chemistry        M. Stanley Whittingham\n",
       "\n",
       "[184 rows x 3 columns]"
      ]
     },
     "execution_count": 41,
     "metadata": {},
     "output_type": "execute_result"
    }
   ],
   "source": [
    "nobels.query('discipline == \"Chemistry\"')"
   ]
  },
  {
   "cell_type": "code",
   "execution_count": 42,
   "id": "f8811389-5328-477e-868c-83f54410505f",
   "metadata": {},
   "outputs": [
    {
     "ename": "KeyError",
     "evalue": "False",
     "output_type": "error",
     "traceback": [
      "\u001b[1;31m---------------------------------------------------------------------------\u001b[0m",
      "\u001b[1;31mKeyError\u001b[0m                                  Traceback (most recent call last)",
      "File \u001b[1;32m~\\anaconda3\\Lib\\site-packages\\pandas\\core\\indexes\\base.py:3791\u001b[0m, in \u001b[0;36mIndex.get_loc\u001b[1;34m(self, key)\u001b[0m\n\u001b[0;32m   3790\u001b[0m \u001b[38;5;28;01mtry\u001b[39;00m:\n\u001b[1;32m-> 3791\u001b[0m     \u001b[38;5;28;01mreturn\u001b[39;00m \u001b[38;5;28mself\u001b[39m\u001b[38;5;241m.\u001b[39m_engine\u001b[38;5;241m.\u001b[39mget_loc(casted_key)\n\u001b[0;32m   3792\u001b[0m \u001b[38;5;28;01mexcept\u001b[39;00m \u001b[38;5;167;01mKeyError\u001b[39;00m \u001b[38;5;28;01mas\u001b[39;00m err:\n",
      "File \u001b[1;32mindex.pyx:152\u001b[0m, in \u001b[0;36mpandas._libs.index.IndexEngine.get_loc\u001b[1;34m()\u001b[0m\n",
      "File \u001b[1;32mindex.pyx:181\u001b[0m, in \u001b[0;36mpandas._libs.index.IndexEngine.get_loc\u001b[1;34m()\u001b[0m\n",
      "File \u001b[1;32mpandas\\_libs\\hashtable_class_helper.pxi:7080\u001b[0m, in \u001b[0;36mpandas._libs.hashtable.PyObjectHashTable.get_item\u001b[1;34m()\u001b[0m\n",
      "File \u001b[1;32mpandas\\_libs\\hashtable_class_helper.pxi:7088\u001b[0m, in \u001b[0;36mpandas._libs.hashtable.PyObjectHashTable.get_item\u001b[1;34m()\u001b[0m\n",
      "\u001b[1;31mKeyError\u001b[0m: False",
      "\nThe above exception was the direct cause of the following exception:\n",
      "\u001b[1;31mKeyError\u001b[0m                                  Traceback (most recent call last)",
      "Cell \u001b[1;32mIn[42], line 1\u001b[0m\n\u001b[1;32m----> 1\u001b[0m nobels[\u001b[38;5;124m'\u001b[39m\u001b[38;5;124mCurie\u001b[39m\u001b[38;5;124m'\u001b[39m \u001b[38;5;129;01min\u001b[39;00m nobels\u001b[38;5;241m.\u001b[39mnobelist]\n",
      "File \u001b[1;32m~\\anaconda3\\Lib\\site-packages\\pandas\\core\\frame.py:3893\u001b[0m, in \u001b[0;36mDataFrame.__getitem__\u001b[1;34m(self, key)\u001b[0m\n\u001b[0;32m   3891\u001b[0m \u001b[38;5;28;01mif\u001b[39;00m \u001b[38;5;28mself\u001b[39m\u001b[38;5;241m.\u001b[39mcolumns\u001b[38;5;241m.\u001b[39mnlevels \u001b[38;5;241m>\u001b[39m \u001b[38;5;241m1\u001b[39m:\n\u001b[0;32m   3892\u001b[0m     \u001b[38;5;28;01mreturn\u001b[39;00m \u001b[38;5;28mself\u001b[39m\u001b[38;5;241m.\u001b[39m_getitem_multilevel(key)\n\u001b[1;32m-> 3893\u001b[0m indexer \u001b[38;5;241m=\u001b[39m \u001b[38;5;28mself\u001b[39m\u001b[38;5;241m.\u001b[39mcolumns\u001b[38;5;241m.\u001b[39mget_loc(key)\n\u001b[0;32m   3894\u001b[0m \u001b[38;5;28;01mif\u001b[39;00m is_integer(indexer):\n\u001b[0;32m   3895\u001b[0m     indexer \u001b[38;5;241m=\u001b[39m [indexer]\n",
      "File \u001b[1;32m~\\anaconda3\\Lib\\site-packages\\pandas\\core\\indexes\\base.py:3798\u001b[0m, in \u001b[0;36mIndex.get_loc\u001b[1;34m(self, key)\u001b[0m\n\u001b[0;32m   3793\u001b[0m     \u001b[38;5;28;01mif\u001b[39;00m \u001b[38;5;28misinstance\u001b[39m(casted_key, \u001b[38;5;28mslice\u001b[39m) \u001b[38;5;129;01mor\u001b[39;00m (\n\u001b[0;32m   3794\u001b[0m         \u001b[38;5;28misinstance\u001b[39m(casted_key, abc\u001b[38;5;241m.\u001b[39mIterable)\n\u001b[0;32m   3795\u001b[0m         \u001b[38;5;129;01mand\u001b[39;00m \u001b[38;5;28many\u001b[39m(\u001b[38;5;28misinstance\u001b[39m(x, \u001b[38;5;28mslice\u001b[39m) \u001b[38;5;28;01mfor\u001b[39;00m x \u001b[38;5;129;01min\u001b[39;00m casted_key)\n\u001b[0;32m   3796\u001b[0m     ):\n\u001b[0;32m   3797\u001b[0m         \u001b[38;5;28;01mraise\u001b[39;00m InvalidIndexError(key)\n\u001b[1;32m-> 3798\u001b[0m     \u001b[38;5;28;01mraise\u001b[39;00m \u001b[38;5;167;01mKeyError\u001b[39;00m(key) \u001b[38;5;28;01mfrom\u001b[39;00m \u001b[38;5;21;01merr\u001b[39;00m\n\u001b[0;32m   3799\u001b[0m \u001b[38;5;28;01mexcept\u001b[39;00m \u001b[38;5;167;01mTypeError\u001b[39;00m:\n\u001b[0;32m   3800\u001b[0m     \u001b[38;5;66;03m# If we have a listlike key, _check_indexing_error will raise\u001b[39;00m\n\u001b[0;32m   3801\u001b[0m     \u001b[38;5;66;03m#  InvalidIndexError. Otherwise we fall through and re-raise\u001b[39;00m\n\u001b[0;32m   3802\u001b[0m     \u001b[38;5;66;03m#  the TypeError.\u001b[39;00m\n\u001b[0;32m   3803\u001b[0m     \u001b[38;5;28mself\u001b[39m\u001b[38;5;241m.\u001b[39m_check_indexing_error(key)\n",
      "\u001b[1;31mKeyError\u001b[0m: False"
     ]
    }
   ],
   "source": [
    "nobels['Curie' in nobels.nobelist]"
   ]
  },
  {
   "cell_type": "markdown",
   "id": "cca72255-6732-464a-a9ad-c3f7f79e3558",
   "metadata": {},
   "source": [
    "***Return all rows that contain the string \"Curie\"***"
   ]
  },
  {
   "cell_type": "code",
   "execution_count": 43,
   "id": "a2e4b3ac-11f7-4b6b-935f-e337faaf47b2",
   "metadata": {},
   "outputs": [
    {
     "data": {
      "text/html": [
       "<div>\n",
       "<style scoped>\n",
       "    .dataframe tbody tr th:only-of-type {\n",
       "        vertical-align: middle;\n",
       "    }\n",
       "\n",
       "    .dataframe tbody tr th {\n",
       "        vertical-align: top;\n",
       "    }\n",
       "\n",
       "    .dataframe thead th {\n",
       "        text-align: right;\n",
       "    }\n",
       "</style>\n",
       "<table border=\"1\" class=\"dataframe\">\n",
       "  <thead>\n",
       "    <tr style=\"text-align: right;\">\n",
       "      <th></th>\n",
       "      <th>year</th>\n",
       "      <th>discipline</th>\n",
       "      <th>nobelist</th>\n",
       "    </tr>\n",
       "  </thead>\n",
       "  <tbody>\n",
       "    <tr>\n",
       "      <th>18</th>\n",
       "      <td>1903</td>\n",
       "      <td>Physics</td>\n",
       "      <td>Marie Curie</td>\n",
       "    </tr>\n",
       "    <tr>\n",
       "      <th>19</th>\n",
       "      <td>1903</td>\n",
       "      <td>Physics</td>\n",
       "      <td>Pierre Curie</td>\n",
       "    </tr>\n",
       "    <tr>\n",
       "      <th>62</th>\n",
       "      <td>1911</td>\n",
       "      <td>Chemistry</td>\n",
       "      <td>Marie Curie</td>\n",
       "    </tr>\n",
       "    <tr>\n",
       "      <th>178</th>\n",
       "      <td>1935</td>\n",
       "      <td>Chemistry</td>\n",
       "      <td>Frédéric Joliot-Curie</td>\n",
       "    </tr>\n",
       "    <tr>\n",
       "      <th>179</th>\n",
       "      <td>1935</td>\n",
       "      <td>Chemistry</td>\n",
       "      <td>Irène Joliot-Curie</td>\n",
       "    </tr>\n",
       "  </tbody>\n",
       "</table>\n",
       "</div>"
      ],
      "text/plain": [
       "     year discipline               nobelist\n",
       "18   1903    Physics            Marie Curie\n",
       "19   1903    Physics           Pierre Curie\n",
       "62   1911  Chemistry            Marie Curie\n",
       "178  1935  Chemistry  Frédéric Joliot-Curie\n",
       "179  1935  Chemistry     Irène Joliot-Curie"
      ]
     },
     "execution_count": 43,
     "metadata": {},
     "output_type": "execute_result"
    }
   ],
   "source": [
    "nobels[nobels.nobelist.str.contains('Curie')]"
   ]
  },
  {
   "cell_type": "code",
   "execution_count": 44,
   "id": "c92df889-3c78-4771-beb0-7dabf87ccc49",
   "metadata": {},
   "outputs": [],
   "source": [
    "disco = np.load('discography.npy')"
   ]
  },
  {
   "cell_type": "code",
   "execution_count": 45,
   "id": "d6e97349-6332-4d7a-9978-2b04b6e22c92",
   "metadata": {},
   "outputs": [
    {
     "data": {
      "text/plain": [
       "array([('David Bowie', '1969-11-14', 17),\n",
       "       ('The Man Who Sold the World', '1970-11-04',  3),\n",
       "       ('Hunky Dory', '1971-12-17',  5),\n",
       "       ('Ziggy Stardust', '1972-06-16',  1),\n",
       "       ('Aladdin Sane', '1973-04-13',  1), ('Pin Ups', '1973-10-19',  1),\n",
       "       ('Diamond Dogs', '1974-05-24',  1),\n",
       "       ('Young Americans', '1975-03-07',  2),\n",
       "       ('Station To Station', '1976-01-23',  5),\n",
       "       ('Low', '1977-01-14',  2), ('Heroes', '1977-10-14',  3),\n",
       "       ('Lodger', '1979-05-18',  4)],\n",
       "      dtype=[('title', '<U32'), ('release', '<M8[D]'), ('toprank', '<i8')])"
      ]
     },
     "execution_count": 45,
     "metadata": {},
     "output_type": "execute_result"
    }
   ],
   "source": [
    "disco"
   ]
  },
  {
   "cell_type": "code",
   "execution_count": 46,
   "id": "c8140d3b-ed1a-467c-9a4e-fd280b9997e9",
   "metadata": {},
   "outputs": [],
   "source": [
    "disco_df = pd.DataFrame(disco)"
   ]
  },
  {
   "cell_type": "code",
   "execution_count": 47,
   "id": "deca9a58-0eb9-4705-ba71-47989c2702c7",
   "metadata": {},
   "outputs": [
    {
     "data": {
      "text/html": [
       "<div>\n",
       "<style scoped>\n",
       "    .dataframe tbody tr th:only-of-type {\n",
       "        vertical-align: middle;\n",
       "    }\n",
       "\n",
       "    .dataframe tbody tr th {\n",
       "        vertical-align: top;\n",
       "    }\n",
       "\n",
       "    .dataframe thead th {\n",
       "        text-align: right;\n",
       "    }\n",
       "</style>\n",
       "<table border=\"1\" class=\"dataframe\">\n",
       "  <thead>\n",
       "    <tr style=\"text-align: right;\">\n",
       "      <th></th>\n",
       "      <th>title</th>\n",
       "      <th>release</th>\n",
       "      <th>toprank</th>\n",
       "    </tr>\n",
       "  </thead>\n",
       "  <tbody>\n",
       "    <tr>\n",
       "      <th>0</th>\n",
       "      <td>David Bowie</td>\n",
       "      <td>1969-11-14</td>\n",
       "      <td>17</td>\n",
       "    </tr>\n",
       "    <tr>\n",
       "      <th>1</th>\n",
       "      <td>The Man Who Sold the World</td>\n",
       "      <td>1970-11-04</td>\n",
       "      <td>3</td>\n",
       "    </tr>\n",
       "    <tr>\n",
       "      <th>2</th>\n",
       "      <td>Hunky Dory</td>\n",
       "      <td>1971-12-17</td>\n",
       "      <td>5</td>\n",
       "    </tr>\n",
       "    <tr>\n",
       "      <th>3</th>\n",
       "      <td>Ziggy Stardust</td>\n",
       "      <td>1972-06-16</td>\n",
       "      <td>1</td>\n",
       "    </tr>\n",
       "    <tr>\n",
       "      <th>4</th>\n",
       "      <td>Aladdin Sane</td>\n",
       "      <td>1973-04-13</td>\n",
       "      <td>1</td>\n",
       "    </tr>\n",
       "    <tr>\n",
       "      <th>5</th>\n",
       "      <td>Pin Ups</td>\n",
       "      <td>1973-10-19</td>\n",
       "      <td>1</td>\n",
       "    </tr>\n",
       "    <tr>\n",
       "      <th>6</th>\n",
       "      <td>Diamond Dogs</td>\n",
       "      <td>1974-05-24</td>\n",
       "      <td>1</td>\n",
       "    </tr>\n",
       "    <tr>\n",
       "      <th>7</th>\n",
       "      <td>Young Americans</td>\n",
       "      <td>1975-03-07</td>\n",
       "      <td>2</td>\n",
       "    </tr>\n",
       "    <tr>\n",
       "      <th>8</th>\n",
       "      <td>Station To Station</td>\n",
       "      <td>1976-01-23</td>\n",
       "      <td>5</td>\n",
       "    </tr>\n",
       "    <tr>\n",
       "      <th>9</th>\n",
       "      <td>Low</td>\n",
       "      <td>1977-01-14</td>\n",
       "      <td>2</td>\n",
       "    </tr>\n",
       "    <tr>\n",
       "      <th>10</th>\n",
       "      <td>Heroes</td>\n",
       "      <td>1977-10-14</td>\n",
       "      <td>3</td>\n",
       "    </tr>\n",
       "    <tr>\n",
       "      <th>11</th>\n",
       "      <td>Lodger</td>\n",
       "      <td>1979-05-18</td>\n",
       "      <td>4</td>\n",
       "    </tr>\n",
       "  </tbody>\n",
       "</table>\n",
       "</div>"
      ],
      "text/plain": [
       "                         title    release  toprank\n",
       "0                  David Bowie 1969-11-14       17\n",
       "1   The Man Who Sold the World 1970-11-04        3\n",
       "2                   Hunky Dory 1971-12-17        5\n",
       "3               Ziggy Stardust 1972-06-16        1\n",
       "4                 Aladdin Sane 1973-04-13        1\n",
       "5                      Pin Ups 1973-10-19        1\n",
       "6                 Diamond Dogs 1974-05-24        1\n",
       "7              Young Americans 1975-03-07        2\n",
       "8           Station To Station 1976-01-23        5\n",
       "9                          Low 1977-01-14        2\n",
       "10                      Heroes 1977-10-14        3\n",
       "11                      Lodger 1979-05-18        4"
      ]
     },
     "execution_count": 47,
     "metadata": {},
     "output_type": "execute_result"
    }
   ],
   "source": [
    "disco_df"
   ]
  },
  {
   "cell_type": "code",
   "execution_count": 48,
   "id": "28650775-4322-4066-a071-24b69a9caab9",
   "metadata": {},
   "outputs": [
    {
     "data": {
      "text/plain": [
       "(12, 3)"
      ]
     },
     "execution_count": 48,
     "metadata": {},
     "output_type": "execute_result"
    }
   ],
   "source": [
    "disco_df.shape"
   ]
  },
  {
   "cell_type": "code",
   "execution_count": 49,
   "id": "58067b04-2ac7-484e-ab37-598cb8f2f92d",
   "metadata": {},
   "outputs": [
    {
     "data": {
      "text/plain": [
       "title             object\n",
       "release    datetime64[s]\n",
       "toprank            int64\n",
       "dtype: object"
      ]
     },
     "execution_count": 49,
     "metadata": {},
     "output_type": "execute_result"
    }
   ],
   "source": [
    "disco_df.dtypes"
   ]
  },
  {
   "cell_type": "code",
   "execution_count": 50,
   "id": "ec629d7a-6411-491f-9fdc-7720647258bd",
   "metadata": {},
   "outputs": [
    {
     "data": {
      "text/html": [
       "<div>\n",
       "<style scoped>\n",
       "    .dataframe tbody tr th:only-of-type {\n",
       "        vertical-align: middle;\n",
       "    }\n",
       "\n",
       "    .dataframe tbody tr th {\n",
       "        vertical-align: top;\n",
       "    }\n",
       "\n",
       "    .dataframe thead th {\n",
       "        text-align: right;\n",
       "    }\n",
       "</style>\n",
       "<table border=\"1\" class=\"dataframe\">\n",
       "  <thead>\n",
       "    <tr style=\"text-align: right;\">\n",
       "      <th></th>\n",
       "      <th>title</th>\n",
       "      <th>year</th>\n",
       "    </tr>\n",
       "  </thead>\n",
       "  <tbody>\n",
       "    <tr>\n",
       "      <th>0</th>\n",
       "      <td>David Bowie</td>\n",
       "      <td>1969</td>\n",
       "    </tr>\n",
       "    <tr>\n",
       "      <th>1</th>\n",
       "      <td>The Man Who Sold the World</td>\n",
       "      <td>1970</td>\n",
       "    </tr>\n",
       "    <tr>\n",
       "      <th>2</th>\n",
       "      <td>Hunky Dory</td>\n",
       "      <td>1971</td>\n",
       "    </tr>\n",
       "  </tbody>\n",
       "</table>\n",
       "</div>"
      ],
      "text/plain": [
       "                        title  year\n",
       "0                 David Bowie  1969\n",
       "1  The Man Who Sold the World  1970\n",
       "2                  Hunky Dory  1971"
      ]
     },
     "execution_count": 50,
     "metadata": {},
     "output_type": "execute_result"
    }
   ],
   "source": [
    "pd.DataFrame([{'title': 'David Bowie', 'year': 1969},\n",
    "             {'title': 'The Man Who Sold the World', 'year': 1970},\n",
    "             {'title': 'Hunky Dory', 'year': 1971},])"
   ]
  },
  {
   "cell_type": "code",
   "execution_count": 51,
   "id": "f9d29d1d-6705-48d5-8d29-1c2c68611518",
   "metadata": {},
   "outputs": [
    {
     "data": {
      "text/html": [
       "<div>\n",
       "<style scoped>\n",
       "    .dataframe tbody tr th:only-of-type {\n",
       "        vertical-align: middle;\n",
       "    }\n",
       "\n",
       "    .dataframe tbody tr th {\n",
       "        vertical-align: top;\n",
       "    }\n",
       "\n",
       "    .dataframe thead th {\n",
       "        text-align: right;\n",
       "    }\n",
       "</style>\n",
       "<table border=\"1\" class=\"dataframe\">\n",
       "  <thead>\n",
       "    <tr style=\"text-align: right;\">\n",
       "      <th></th>\n",
       "      <th>title</th>\n",
       "      <th>toprank</th>\n",
       "    </tr>\n",
       "  </thead>\n",
       "  <tbody>\n",
       "    <tr>\n",
       "      <th>0</th>\n",
       "      <td>Ziqqy Stardust</td>\n",
       "      <td>1</td>\n",
       "    </tr>\n",
       "    <tr>\n",
       "      <th>1</th>\n",
       "      <td>Aladdin Sane</td>\n",
       "      <td>1</td>\n",
       "    </tr>\n",
       "    <tr>\n",
       "      <th>2</th>\n",
       "      <td>Pin Ups</td>\n",
       "      <td>1</td>\n",
       "    </tr>\n",
       "  </tbody>\n",
       "</table>\n",
       "</div>"
      ],
      "text/plain": [
       "            title  toprank\n",
       "0  Ziqqy Stardust        1\n",
       "1    Aladdin Sane        1\n",
       "2         Pin Ups        1"
      ]
     },
     "execution_count": 51,
     "metadata": {},
     "output_type": "execute_result"
    }
   ],
   "source": [
    "pd.DataFrame([('Ziqqy Stardust', 1), ('Aladdin Sane', 1), ('Pin Ups', 1)],\n",
    "            columns=['title', 'toprank'])"
   ]
  },
  {
   "cell_type": "code",
   "execution_count": 54,
   "id": "001aa300-8f16-42f2-8596-da851179941b",
   "metadata": {},
   "outputs": [
    {
     "data": {
      "text/html": [
       "<div>\n",
       "<style scoped>\n",
       "    .dataframe tbody tr th:only-of-type {\n",
       "        vertical-align: middle;\n",
       "    }\n",
       "\n",
       "    .dataframe tbody tr th {\n",
       "        vertical-align: top;\n",
       "    }\n",
       "\n",
       "    .dataframe thead th {\n",
       "        text-align: right;\n",
       "    }\n",
       "</style>\n",
       "<table border=\"1\" class=\"dataframe\">\n",
       "  <thead>\n",
       "    <tr style=\"text-align: right;\">\n",
       "      <th></th>\n",
       "      <th>title</th>\n",
       "      <th>release</th>\n",
       "    </tr>\n",
       "  </thead>\n",
       "  <tbody>\n",
       "    <tr>\n",
       "      <th>0</th>\n",
       "      <td>David Bowie</td>\n",
       "      <td>1969-11-14</td>\n",
       "    </tr>\n",
       "    <tr>\n",
       "      <th>1</th>\n",
       "      <td>The Man Who Sold the World</td>\n",
       "      <td>1970-11-04</td>\n",
       "    </tr>\n",
       "    <tr>\n",
       "      <th>2</th>\n",
       "      <td>Hunky Dory</td>\n",
       "      <td>1971-12-17</td>\n",
       "    </tr>\n",
       "    <tr>\n",
       "      <th>3</th>\n",
       "      <td>Ziggy Stardust</td>\n",
       "      <td>1972-06-16</td>\n",
       "    </tr>\n",
       "    <tr>\n",
       "      <th>4</th>\n",
       "      <td>Aladin Sane</td>\n",
       "      <td>1973-01-23</td>\n",
       "    </tr>\n",
       "    <tr>\n",
       "      <th>5</th>\n",
       "      <td>Pin Ups</td>\n",
       "      <td>1973-10-19</td>\n",
       "    </tr>\n",
       "    <tr>\n",
       "      <th>6</th>\n",
       "      <td>Diamond Dogs</td>\n",
       "      <td>1974-05-24</td>\n",
       "    </tr>\n",
       "    <tr>\n",
       "      <th>7</th>\n",
       "      <td>Young Americans</td>\n",
       "      <td>1975-03-07</td>\n",
       "    </tr>\n",
       "    <tr>\n",
       "      <th>8</th>\n",
       "      <td>Station to Station</td>\n",
       "      <td>1976-01-23</td>\n",
       "    </tr>\n",
       "    <tr>\n",
       "      <th>9</th>\n",
       "      <td>Low</td>\n",
       "      <td>1977-01-14</td>\n",
       "    </tr>\n",
       "    <tr>\n",
       "      <th>10</th>\n",
       "      <td>Heroes</td>\n",
       "      <td>1977-10-14</td>\n",
       "    </tr>\n",
       "    <tr>\n",
       "      <th>11</th>\n",
       "      <td>Lodger</td>\n",
       "      <td>1979-05-18</td>\n",
       "    </tr>\n",
       "  </tbody>\n",
       "</table>\n",
       "</div>"
      ],
      "text/plain": [
       "                         title     release\n",
       "0                  David Bowie  1969-11-14\n",
       "1   The Man Who Sold the World  1970-11-04\n",
       "2                   Hunky Dory  1971-12-17\n",
       "3               Ziggy Stardust  1972-06-16\n",
       "4                  Aladin Sane  1973-01-23\n",
       "5                      Pin Ups  1973-10-19\n",
       "6                 Diamond Dogs  1974-05-24\n",
       "7              Young Americans  1975-03-07\n",
       "8           Station to Station  1976-01-23\n",
       "9                          Low  1977-01-14\n",
       "10                      Heroes  1977-10-14\n",
       "11                      Lodger  1979-05-18"
      ]
     },
     "execution_count": 54,
     "metadata": {},
     "output_type": "execute_result"
    }
   ],
   "source": [
    "pd.DataFrame({'title': ['David Bowie', 'The Man Who Sold the World', 'Hunky Dory',\n",
    "                        'Ziggy Stardust', 'Aladin Sane', 'Pin Ups', 'Diamond Dogs',\n",
    "                        'Young Americans', 'Station to Station', 'Low', 'Heroes', 'Lodger'],\n",
    "              'release':['1969-11-14', '1970-11-04', '1971-12-17', '1972-06-16',\n",
    "                         '1973-01-23', '1973-10-19', '1974-05-24', '1975-03-07',\n",
    "                         '1976-01-23', '1977-01-14', '1977-10-14', '1979-05-18']})"
   ]
  },
  {
   "cell_type": "code",
   "execution_count": null,
   "id": "bd49d6f0-ce44-4333-bda6-ba9488a6b95d",
   "metadata": {},
   "outputs": [],
   "source": []
  }
 ],
 "metadata": {
  "kernelspec": {
   "display_name": "Python 3 (ipykernel)",
   "language": "python",
   "name": "python3"
  },
  "language_info": {
   "codemirror_mode": {
    "name": "ipython",
    "version": 3
   },
   "file_extension": ".py",
   "mimetype": "text/x-python",
   "name": "python",
   "nbconvert_exporter": "python",
   "pygments_lexer": "ipython3",
   "version": "3.11.7"
  }
 },
 "nbformat": 4,
 "nbformat_minor": 5
}
