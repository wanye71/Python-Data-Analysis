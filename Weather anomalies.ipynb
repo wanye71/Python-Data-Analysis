{
 "cells": [
  {
   "cell_type": "code",
   "execution_count": 1,
   "id": "933c59cb-7ca1-4ced-9572-10ac8e072d33",
   "metadata": {},
   "outputs": [],
   "source": [
    "import math\n",
    "import collections\n",
    "import urllib\n",
    "\n",
    "import numpy as np\n",
    "import pandas as pd\n",
    "import matplotlib.pyplot as plt\n",
    "\n",
    "%matplotlib inline"
   ]
  },
  {
   "cell_type": "code",
   "execution_count": 34,
   "id": "4ae42f09-5cd5-4ece-a47d-4b5e9b2b8c33",
   "metadata": {},
   "outputs": [],
   "source": [
    "import getweather\n",
    "\n",
    "def smooth(array, window=10, mode='valid'):\n",
    "    return np.correlate(array, np.ones(window)/window, mode)"
   ]
  },
  {
   "cell_type": "code",
   "execution_count": 38,
   "id": "e0f80a85-e7fa-4b02-9c89-210cffc5a0e5",
   "metadata": {},
   "outputs": [],
   "source": [
    "# get all historical data for New York, stacked into array\n",
    "\n",
    "station = 'TAMPA'\n",
    "\n",
    "allyears = np.arange(1880, 2020)\n",
    "\n",
    "alldata = np.vstack([getweather.getyear(station, ['TMIN','TMAX'], year)\n",
    "                     for year in allyears])"
   ]
  },
  {
   "cell_type": "code",
   "execution_count": 39,
   "id": "30edc7da-c18d-4db5-adf3-9566e85092db",
   "metadata": {},
   "outputs": [
    {
     "name": "stderr",
     "output_type": "stream",
     "text": [
      "C:\\Users\\wayne\\AppData\\Local\\Temp\\ipykernel_11800\\3045959630.py:1: RuntimeWarning: Mean of empty slice\n",
      "  allavg = np.nanmean(0.5*(alldata['TMIN'] + alldata['TMAX']), axis=1)\n"
     ]
    }
   ],
   "source": [
    "allavg = np.nanmean(0.5*(alldata['TMIN'] + alldata['TMAX']), axis=1)"
   ]
  },
  {
   "cell_type": "code",
   "execution_count": 29,
   "id": "5fdf699e-3294-4825-b539-a0138cc4efa1",
   "metadata": {},
   "outputs": [
    {
     "data": {
      "text/plain": [
       "(140,)"
      ]
     },
     "execution_count": 29,
     "metadata": {},
     "output_type": "execute_result"
    }
   ],
   "source": [
    "allavg.shape"
   ]
  },
  {
   "cell_type": "code",
   "execution_count": null,
   "id": "d0af91af-1431-4856-98ba-3842ab86b178",
   "metadata": {},
   "outputs": [],
   "source": []
  },
  {
   "cell_type": "code",
   "execution_count": null,
   "id": "28dc6254-4214-41b7-87b6-e8317ebf281a",
   "metadata": {},
   "outputs": [],
   "source": []
  }
 ],
 "metadata": {
  "kernelspec": {
   "display_name": "Python 3 (ipykernel)",
   "language": "python",
   "name": "python3"
  },
  "language_info": {
   "codemirror_mode": {
    "name": "ipython",
    "version": 3
   },
   "file_extension": ".py",
   "mimetype": "text/x-python",
   "name": "python",
   "nbconvert_exporter": "python",
   "pygments_lexer": "ipython3",
   "version": "3.11.7"
  }
 },
 "nbformat": 4,
 "nbformat_minor": 5
}
