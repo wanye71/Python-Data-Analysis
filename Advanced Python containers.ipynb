{
 "cells": [
  {
   "cell_type": "code",
   "execution_count": 36,
   "id": "3be94380-1a98-430a-80e7-284c6fa9512c",
   "metadata": {},
   "outputs": [],
   "source": [
    "import math\n",
    "import collections\n",
    "\n",
    "import numpy as np\n",
    "import pandas as pd\n",
    "import matplotlib.pyplot as pp\n",
    "\n",
    "%matplotlib inline"
   ]
  },
  {
   "cell_type": "code",
   "execution_count": 37,
   "id": "79060f1b-8ed9-4e21-94ed-c822552fbefd",
   "metadata": {},
   "outputs": [],
   "source": [
    "people = [(\"Wayne\", \"Hatter\", \"Dec 11\"),\n",
    "         (\"Albert\", \"Einstein\", \"March 14\"),\n",
    "         (\"John\", \"Lennon\", \"October 9\"),\n",
    "         (\"Jocelyn\", \"Bell Burnell\", \"July 15\")]"
   ]
  },
  {
   "cell_type": "code",
   "execution_count": 38,
   "id": "c03ab009-3457-4033-9f07-9c88ff94284a",
   "metadata": {},
   "outputs": [
    {
     "data": {
      "text/plain": [
       "('John', 'Lennon', 'October 9')"
      ]
     },
     "execution_count": 38,
     "metadata": {},
     "output_type": "execute_result"
    }
   ],
   "source": [
    "people[2]"
   ]
  },
  {
   "cell_type": "code",
   "execution_count": 39,
   "id": "c0fbdd82-2770-41b0-988d-02d8e61b3981",
   "metadata": {},
   "outputs": [
    {
     "data": {
      "text/plain": [
       "'Hatter'"
      ]
     },
     "execution_count": 39,
     "metadata": {},
     "output_type": "execute_result"
    }
   ],
   "source": [
    "people[0][1]"
   ]
  },
  {
   "cell_type": "code",
   "execution_count": 40,
   "id": "0b79c1e9-7622-403b-afa3-099662324b22",
   "metadata": {},
   "outputs": [
    {
     "data": {
      "text/plain": [
       "[('Wayne', 'Hatter', 'Dec 11')]"
      ]
     },
     "execution_count": 40,
     "metadata": {},
     "output_type": "execute_result"
    }
   ],
   "source": [
    "[person for person in people if person[2] == \"Dec 11\"]"
   ]
  },
  {
   "cell_type": "code",
   "execution_count": 41,
   "id": "f3cfdaa9-bb1d-4445-a955-35a024d9638d",
   "metadata": {},
   "outputs": [],
   "source": [
    "persontype = collections.namedtuple('person', ['firstname', 'lastname', 'birthday'])"
   ]
  },
  {
   "cell_type": "code",
   "execution_count": 42,
   "id": "9dd50a9a-72c5-4cdb-8755-3c4d308cdfef",
   "metadata": {},
   "outputs": [],
   "source": [
    "wayne = persontype(\"Wayne\", \"Hatter\", \"Dec 11\")"
   ]
  },
  {
   "cell_type": "code",
   "execution_count": 43,
   "id": "66d8defb-ad23-4ef9-b577-3a25af670e00",
   "metadata": {},
   "outputs": [
    {
     "data": {
      "text/plain": [
       "person(firstname='Wayne', lastname='Hatter', birthday='Dec 11')"
      ]
     },
     "execution_count": 43,
     "metadata": {},
     "output_type": "execute_result"
    }
   ],
   "source": [
    "wayne"
   ]
  },
  {
   "cell_type": "code",
   "execution_count": 44,
   "id": "453330f5-50ed-4af4-94a9-0e23a3863959",
   "metadata": {},
   "outputs": [
    {
     "data": {
      "text/plain": [
       "('Wayne', 'Hatter', 'Dec 11')"
      ]
     },
     "execution_count": 44,
     "metadata": {},
     "output_type": "execute_result"
    }
   ],
   "source": [
    "wayne[0], wayne[1], wayne[2]"
   ]
  },
  {
   "cell_type": "code",
   "execution_count": 45,
   "id": "c7a15073-8b03-42c8-b707-7a5b3b392244",
   "metadata": {},
   "outputs": [
    {
     "data": {
      "text/plain": [
       "('Wayne', 'Hatter', 'Dec 11')"
      ]
     },
     "execution_count": 45,
     "metadata": {},
     "output_type": "execute_result"
    }
   ],
   "source": [
    "wayne.firstname, wayne.lastname, wayne.birthday"
   ]
  },
  {
   "cell_type": "code",
   "execution_count": 46,
   "id": "2b80ef67-e0c3-42ba-a3e8-8abd8b3771d2",
   "metadata": {},
   "outputs": [
    {
     "ename": "TypeError",
     "evalue": "person.__new__() missing 2 required positional arguments: 'lastname' and 'birthday'",
     "output_type": "error",
     "traceback": [
      "\u001b[1;31m---------------------------------------------------------------------------\u001b[0m",
      "\u001b[1;31mTypeError\u001b[0m                                 Traceback (most recent call last)",
      "Cell \u001b[1;32mIn[46], line 1\u001b[0m\n\u001b[1;32m----> 1\u001b[0m persontype(people[\u001b[38;5;241m0\u001b[39m])\n",
      "\u001b[1;31mTypeError\u001b[0m: person.__new__() missing 2 required positional arguments: 'lastname' and 'birthday'"
     ]
    }
   ],
   "source": [
    "persontype(people[0])"
   ]
  },
  {
   "cell_type": "code",
   "execution_count": 47,
   "id": "c52324d6-94fa-4de7-9acd-22c2f438b4b4",
   "metadata": {},
   "outputs": [
    {
     "data": {
      "text/plain": [
       "person(firstname='Wayne', lastname='Hatter', birthday='Dec 11')"
      ]
     },
     "execution_count": 47,
     "metadata": {},
     "output_type": "execute_result"
    }
   ],
   "source": [
    "persontype(*people[0])"
   ]
  },
  {
   "cell_type": "code",
   "execution_count": 48,
   "id": "2ae186a6-4fe1-4016-9f87-c38e98c1f5ef",
   "metadata": {},
   "outputs": [],
   "source": [
    "namedpeople = [persontype(*person) for person in people]"
   ]
  },
  {
   "cell_type": "code",
   "execution_count": 49,
   "id": "ccb065c2-1f13-463c-8380-b582aaace923",
   "metadata": {},
   "outputs": [
    {
     "data": {
      "text/plain": [
       "[person(firstname='Wayne', lastname='Hatter', birthday='Dec 11'),\n",
       " person(firstname='Albert', lastname='Einstein', birthday='March 14'),\n",
       " person(firstname='John', lastname='Lennon', birthday='October 9'),\n",
       " person(firstname='Jocelyn', lastname='Bell Burnell', birthday='July 15')]"
      ]
     },
     "execution_count": 49,
     "metadata": {},
     "output_type": "execute_result"
    }
   ],
   "source": [
    "namedpeople"
   ]
  },
  {
   "cell_type": "code",
   "execution_count": 50,
   "id": "cdb3e42a-e555-42ed-a29b-f39538a1b43d",
   "metadata": {},
   "outputs": [
    {
     "data": {
      "text/plain": [
       "[person(firstname='Jocelyn', lastname='Bell Burnell', birthday='July 15')]"
      ]
     },
     "execution_count": 50,
     "metadata": {},
     "output_type": "execute_result"
    }
   ],
   "source": [
    "[person for person in namedpeople if person.birthday == \"July 15\"]"
   ]
  },
  {
   "cell_type": "code",
   "execution_count": 51,
   "id": "a6a46280-20f2-418e-a3df-d8d7ea899b19",
   "metadata": {},
   "outputs": [],
   "source": [
    "#!pip install dataclasses"
   ]
  },
  {
   "cell_type": "code",
   "execution_count": 52,
   "id": "77c5ab7b-afa4-45b8-b109-56f05796e564",
   "metadata": {},
   "outputs": [],
   "source": [
    "from dataclasses import dataclass"
   ]
  },
  {
   "cell_type": "code",
   "execution_count": 53,
   "id": "0b16c643-ece1-4151-95ba-90e9d7523339",
   "metadata": {},
   "outputs": [],
   "source": [
    "@dataclass\n",
    "class personclass:\n",
    "    firstname: str\n",
    "    lastname: str\n",
    "    birthday: str = \"unknown\""
   ]
  },
  {
   "cell_type": "code",
   "execution_count": 54,
   "id": "3e700af6-0d56-476c-9a4e-5ebca878855d",
   "metadata": {},
   "outputs": [],
   "source": [
    "wayne = personclass('Michele', 'Vallisneri')"
   ]
  },
  {
   "cell_type": "code",
   "execution_count": 55,
   "id": "0f83a1d9-60fd-4a6a-8cf9-69990a85f31c",
   "metadata": {},
   "outputs": [
    {
     "data": {
      "text/plain": [
       "personclass(firstname='Michele', lastname='Vallisneri', birthday='unknown')"
      ]
     },
     "execution_count": 55,
     "metadata": {},
     "output_type": "execute_result"
    }
   ],
   "source": [
    "wayne"
   ]
  },
  {
   "cell_type": "code",
   "execution_count": 56,
   "id": "6f05946e-4599-4f23-878f-bd66fe53900c",
   "metadata": {},
   "outputs": [],
   "source": [
    "wayne = personclass(firstname='Wayne', lastname='Hatter')"
   ]
  },
  {
   "cell_type": "code",
   "execution_count": 57,
   "id": "3f793397-04a9-4844-98d6-ac2b458f5410",
   "metadata": {},
   "outputs": [
    {
     "data": {
      "text/plain": [
       "personclass(firstname='Wayne', lastname='Hatter', birthday='unknown')"
      ]
     },
     "execution_count": 57,
     "metadata": {},
     "output_type": "execute_result"
    }
   ],
   "source": [
    "wayne"
   ]
  },
  {
   "cell_type": "code",
   "execution_count": 58,
   "id": "b2030dda-35ca-4ebd-9197-7d1f2d360b64",
   "metadata": {},
   "outputs": [
    {
     "data": {
      "text/plain": [
       "('Wayne', 'Hatter', 'unknown')"
      ]
     },
     "execution_count": 58,
     "metadata": {},
     "output_type": "execute_result"
    }
   ],
   "source": [
    "wayne.firstname, wayne.lastname, wayne.birthday"
   ]
  },
  {
   "cell_type": "code",
   "execution_count": 59,
   "id": "47f6af16-ff66-4236-92d9-106ce0a70c38",
   "metadata": {},
   "outputs": [
    {
     "ename": "TypeError",
     "evalue": "'personclass' object is not subscriptable",
     "output_type": "error",
     "traceback": [
      "\u001b[1;31m---------------------------------------------------------------------------\u001b[0m",
      "\u001b[1;31mTypeError\u001b[0m                                 Traceback (most recent call last)",
      "Cell \u001b[1;32mIn[59], line 1\u001b[0m\n\u001b[1;32m----> 1\u001b[0m wayne[\u001b[38;5;241m0\u001b[39m]\n",
      "\u001b[1;31mTypeError\u001b[0m: 'personclass' object is not subscriptable"
     ]
    }
   ],
   "source": [
    "wayne[0]"
   ]
  },
  {
   "cell_type": "code",
   "execution_count": 60,
   "id": "39202901-dad9-49a3-ac38-285daa52d02a",
   "metadata": {},
   "outputs": [
    {
     "name": "stdout",
     "output_type": "stream",
     "text": [
      "personclass(firstname='Wayne', lastname='Hatter', birthday='unknown')\n"
     ]
    }
   ],
   "source": [
    "print(wayne)"
   ]
  },
  {
   "cell_type": "code",
   "execution_count": 61,
   "id": "c2dadfaf-58bd-4fc0-83ad-e69d4e66b228",
   "metadata": {},
   "outputs": [],
   "source": [
    "@dataclass\n",
    "class personclass2:\n",
    "    firstname: str\n",
    "    lastname: str\n",
    "    birthday: str = 'unknown'\n",
    "\n",
    "    def fullname(self):\n",
    "        return self.firstname + \" \" + self.lastname"
   ]
  },
  {
   "cell_type": "code",
   "execution_count": 62,
   "id": "5875d4a6-7128-4e5a-8ac0-3ec6e9a5e22e",
   "metadata": {},
   "outputs": [],
   "source": [
    "wayne = personclass2('Wayne', 'Hatter')"
   ]
  },
  {
   "cell_type": "code",
   "execution_count": 63,
   "id": "0d9c3edc-805c-4e54-87d8-eec99d8742cc",
   "metadata": {},
   "outputs": [
    {
     "data": {
      "text/plain": [
       "'Wayne Hatter'"
      ]
     },
     "execution_count": 63,
     "metadata": {},
     "output_type": "execute_result"
    }
   ],
   "source": [
    "wayne.fullname()"
   ]
  },
  {
   "cell_type": "code",
   "execution_count": 64,
   "id": "249101f1-76c0-493d-87df-f59405dd2803",
   "metadata": {},
   "outputs": [],
   "source": [
    "def mydefault():\n",
    "    return \"I don't know\""
   ]
  },
  {
   "cell_type": "code",
   "execution_count": 65,
   "id": "8c069fb1-5ee1-40f8-982a-aa72aa6ddc3f",
   "metadata": {},
   "outputs": [],
   "source": [
    "questions = collections.defaultdict(mydefault)"
   ]
  },
  {
   "cell_type": "code",
   "execution_count": 66,
   "id": "83097469-b758-4cef-a625-f79f3d3869e9",
   "metadata": {},
   "outputs": [
    {
     "data": {
      "text/plain": [
       "\"I don't know\""
      ]
     },
     "execution_count": 66,
     "metadata": {},
     "output_type": "execute_result"
    }
   ],
   "source": [
    "questions['The meaning of life']"
   ]
  },
  {
   "cell_type": "code",
   "execution_count": 67,
   "id": "ea98193d-93d6-42fb-97a6-a6c07ce4713a",
   "metadata": {},
   "outputs": [
    {
     "data": {
      "text/plain": [
       "defaultdict(<function __main__.mydefault()>,\n",
       "            {'The meaning of life': \"I don't know\"})"
      ]
     },
     "execution_count": 67,
     "metadata": {},
     "output_type": "execute_result"
    }
   ],
   "source": [
    "questions"
   ]
  },
  {
   "cell_type": "code",
   "execution_count": 68,
   "id": "a33d123a-661b-423e-9273-2d389722fa38",
   "metadata": {},
   "outputs": [],
   "source": [
    "birthdays = {}\n",
    "\n",
    "for person in namedpeople:\n",
    "    if person.birthday in birthdays:\n",
    "        birthdays[person.birthday].append(person.firstname)\n",
    "    else:\n",
    "        birthdays[person.birthday] = [person.firstname]"
   ]
  },
  {
   "cell_type": "code",
   "execution_count": 69,
   "id": "7957a40f-a64b-4c36-ae78-41f2947a5753",
   "metadata": {},
   "outputs": [
    {
     "data": {
      "text/plain": [
       "{'Dec 11': ['Wayne'],\n",
       " 'March 14': ['Albert'],\n",
       " 'October 9': ['John'],\n",
       " 'July 15': ['Jocelyn']}"
      ]
     },
     "execution_count": 69,
     "metadata": {},
     "output_type": "execute_result"
    }
   ],
   "source": [
    "birthdays"
   ]
  },
  {
   "cell_type": "code",
   "execution_count": 81,
   "id": "259d05a2-8dbb-4fe7-b3c8-85daa08d7bc3",
   "metadata": {},
   "outputs": [
    {
     "name": "stdout",
     "output_type": "stream",
     "text": [
      "5\n",
      "9\n",
      "13\n",
      "17\n",
      "21\n"
     ]
    }
   ],
   "source": [
    "for i in range(5, 25, 4):\n",
    "    print(i)"
   ]
  },
  {
   "cell_type": "code",
   "execution_count": null,
   "id": "998a00ef-e367-4673-9909-18d314840298",
   "metadata": {},
   "outputs": [],
   "source": []
  }
 ],
 "metadata": {
  "kernelspec": {
   "display_name": "Python 3 (ipykernel)",
   "language": "python",
   "name": "python3"
  },
  "language_info": {
   "codemirror_mode": {
    "name": "ipython",
    "version": 3
   },
   "file_extension": ".py",
   "mimetype": "text/x-python",
   "name": "python",
   "nbconvert_exporter": "python",
   "pygments_lexer": "ipython3",
   "version": "3.11.7"
  }
 },
 "nbformat": 4,
 "nbformat_minor": 5
}
