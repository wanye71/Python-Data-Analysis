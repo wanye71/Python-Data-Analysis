{
 "cells": [
  {
   "cell_type": "markdown",
   "metadata": {},
   "source": [
    "# 05_07: Temperature Anomaly Solution"
   ]
  },
  {
   "cell_type": "code",
   "execution_count": 1,
   "metadata": {},
   "outputs": [],
   "source": [
    "import math\n",
    "import collections\n",
    "import urllib\n",
    "\n",
    "import numpy as np\n",
    "import pandas as pd\n",
    "import matplotlib.pyplot as pp\n",
    "\n",
    "%matplotlib inline"
   ]
  },
  {
   "cell_type": "code",
   "execution_count": 2,
   "metadata": {},
   "outputs": [],
   "source": [
    "import getweather\n",
    "\n",
    "def smooth(array, window=10, mode='valid'):\n",
    "    return np.correlate(array, np.ones(window)/window, mode)"
   ]
  },
  {
   "cell_type": "code",
   "execution_count": 3,
   "metadata": {},
   "outputs": [
    {
     "ename": "KeyError",
     "evalue": "\"['TMIN', 'TMAX'] not in index\"",
     "output_type": "error",
     "traceback": [
      "\u001b[1;31m---------------------------------------------------------------------------\u001b[0m",
      "\u001b[1;31mKeyError\u001b[0m                                  Traceback (most recent call last)",
      "Cell \u001b[1;32mIn[3], line 7\u001b[0m\n\u001b[0;32m      3\u001b[0m station \u001b[38;5;241m=\u001b[39m \u001b[38;5;124m'\u001b[39m\u001b[38;5;124mNEW YORK\u001b[39m\u001b[38;5;124m'\u001b[39m\n\u001b[0;32m      5\u001b[0m allyears \u001b[38;5;241m=\u001b[39m np\u001b[38;5;241m.\u001b[39marange(\u001b[38;5;241m1880\u001b[39m, \u001b[38;5;241m2020\u001b[39m)\n\u001b[1;32m----> 7\u001b[0m alldata \u001b[38;5;241m=\u001b[39m np\u001b[38;5;241m.\u001b[39mvstack([getweather\u001b[38;5;241m.\u001b[39mgetyear(station, [\u001b[38;5;124m'\u001b[39m\u001b[38;5;124mTMIN\u001b[39m\u001b[38;5;124m'\u001b[39m,\u001b[38;5;124m'\u001b[39m\u001b[38;5;124mTMAX\u001b[39m\u001b[38;5;124m'\u001b[39m], year)\n\u001b[0;32m      8\u001b[0m                      \u001b[38;5;28;01mfor\u001b[39;00m year \u001b[38;5;129;01min\u001b[39;00m allyears])\n",
      "Cell \u001b[1;32mIn[3], line 7\u001b[0m, in \u001b[0;36m<listcomp>\u001b[1;34m(.0)\u001b[0m\n\u001b[0;32m      3\u001b[0m station \u001b[38;5;241m=\u001b[39m \u001b[38;5;124m'\u001b[39m\u001b[38;5;124mNEW YORK\u001b[39m\u001b[38;5;124m'\u001b[39m\n\u001b[0;32m      5\u001b[0m allyears \u001b[38;5;241m=\u001b[39m np\u001b[38;5;241m.\u001b[39marange(\u001b[38;5;241m1880\u001b[39m, \u001b[38;5;241m2020\u001b[39m)\n\u001b[1;32m----> 7\u001b[0m alldata \u001b[38;5;241m=\u001b[39m np\u001b[38;5;241m.\u001b[39mvstack([getweather\u001b[38;5;241m.\u001b[39mgetyear(station, [\u001b[38;5;124m'\u001b[39m\u001b[38;5;124mTMIN\u001b[39m\u001b[38;5;124m'\u001b[39m,\u001b[38;5;124m'\u001b[39m\u001b[38;5;124mTMAX\u001b[39m\u001b[38;5;124m'\u001b[39m], year)\n\u001b[0;32m      8\u001b[0m                      \u001b[38;5;28;01mfor\u001b[39;00m year \u001b[38;5;129;01min\u001b[39;00m allyears])\n",
      "File \u001b[1;32m~\\Python_Data_Analysis\\getweather.py:173\u001b[0m, in \u001b[0;36mgetyear\u001b[1;34m(station_name, elements, year)\u001b[0m\n\u001b[0;32m    164\u001b[0m \u001b[38;5;28;01mdef\u001b[39;00m \u001b[38;5;21mgetyear\u001b[39m(station_name, elements, year):\n\u001b[0;32m    165\u001b[0m \u001b[38;5;250m    \u001b[39m\u001b[38;5;124;03m\"\"\"Make a NumPy record array of length 365, containing weather data\u001b[39;00m\n\u001b[0;32m    166\u001b[0m \u001b[38;5;124;03m    at station_name for the list of requested elements (TMIN/TMAX/PRCP/SNOW),\u001b[39;00m\n\u001b[0;32m    167\u001b[0m \u001b[38;5;124;03m    restricted to year.\u001b[39;00m\n\u001b[1;32m   (...)\u001b[0m\n\u001b[0;32m    170\u001b[0m \u001b[38;5;124;03m    with station_name, but give precedence to HCN and GSN stations.\u001b[39;00m\n\u001b[0;32m    171\u001b[0m \u001b[38;5;124;03m    \"\"\"\u001b[39;00m\n\u001b[1;32m--> 173\u001b[0m     alldata \u001b[38;5;241m=\u001b[39m getdata(station_name)\n\u001b[0;32m    175\u001b[0m     \u001b[38;5;66;03m# select data by year, and get rid of the extra day in leap years\u001b[39;00m\n\u001b[0;32m    176\u001b[0m     \u001b[38;5;66;03m# then pick out the \"element\" column\u001b[39;00m\n\u001b[0;32m    177\u001b[0m     yeardata \u001b[38;5;241m=\u001b[39m alldata[(alldata\u001b[38;5;241m.\u001b[39mindex\u001b[38;5;241m.\u001b[39myear \u001b[38;5;241m==\u001b[39m year) \u001b[38;5;241m&\u001b[39m (alldata\u001b[38;5;241m.\u001b[39mindex\u001b[38;5;241m.\u001b[39mdayofyear \u001b[38;5;241m<\u001b[39m \u001b[38;5;241m366\u001b[39m)]\n",
      "File \u001b[1;32m~\\Python_Data_Analysis\\getweather.py:154\u001b[0m, in \u001b[0;36mgetdata\u001b[1;34m(station_name)\u001b[0m\n\u001b[0;32m    152\u001b[0m pw \u001b[38;5;241m=\u001b[39m pw\u001b[38;5;241m.\u001b[39mpivot(index\u001b[38;5;241m=\u001b[39m\u001b[38;5;124m'\u001b[39m\u001b[38;5;124mdate\u001b[39m\u001b[38;5;124m'\u001b[39m, columns\u001b[38;5;241m=\u001b[39m\u001b[38;5;124m'\u001b[39m\u001b[38;5;124melement\u001b[39m\u001b[38;5;124m'\u001b[39m)[\u001b[38;5;124m'\u001b[39m\u001b[38;5;124mvalue\u001b[39m\u001b[38;5;124m'\u001b[39m]\n\u001b[0;32m    153\u001b[0m pw\u001b[38;5;241m.\u001b[39mcolumns\u001b[38;5;241m.\u001b[39mname \u001b[38;5;241m=\u001b[39m \u001b[38;5;28;01mNone\u001b[39;00m    \n\u001b[1;32m--> 154\u001b[0m pw \u001b[38;5;241m=\u001b[39m pw[[\u001b[38;5;124m'\u001b[39m\u001b[38;5;124mTMIN\u001b[39m\u001b[38;5;124m'\u001b[39m,\u001b[38;5;124m'\u001b[39m\u001b[38;5;124mTMAX\u001b[39m\u001b[38;5;124m'\u001b[39m,\u001b[38;5;124m'\u001b[39m\u001b[38;5;124mPRCP\u001b[39m\u001b[38;5;124m'\u001b[39m,\u001b[38;5;124m'\u001b[39m\u001b[38;5;124mSNOW\u001b[39m\u001b[38;5;124m'\u001b[39m]]\n\u001b[0;32m    156\u001b[0m \u001b[38;5;66;03m# last, convert temperatures to degrees\u001b[39;00m\n\u001b[0;32m    157\u001b[0m pw[\u001b[38;5;124m'\u001b[39m\u001b[38;5;124mTMIN\u001b[39m\u001b[38;5;124m'\u001b[39m] \u001b[38;5;241m/\u001b[39m\u001b[38;5;241m=\u001b[39m \u001b[38;5;241m10.0\u001b[39m\n",
      "File \u001b[1;32m~\\anaconda3\\Lib\\site-packages\\pandas\\core\\frame.py:3899\u001b[0m, in \u001b[0;36mDataFrame.__getitem__\u001b[1;34m(self, key)\u001b[0m\n\u001b[0;32m   3897\u001b[0m     \u001b[38;5;28;01mif\u001b[39;00m is_iterator(key):\n\u001b[0;32m   3898\u001b[0m         key \u001b[38;5;241m=\u001b[39m \u001b[38;5;28mlist\u001b[39m(key)\n\u001b[1;32m-> 3899\u001b[0m     indexer \u001b[38;5;241m=\u001b[39m \u001b[38;5;28mself\u001b[39m\u001b[38;5;241m.\u001b[39mcolumns\u001b[38;5;241m.\u001b[39m_get_indexer_strict(key, \u001b[38;5;124m\"\u001b[39m\u001b[38;5;124mcolumns\u001b[39m\u001b[38;5;124m\"\u001b[39m)[\u001b[38;5;241m1\u001b[39m]\n\u001b[0;32m   3901\u001b[0m \u001b[38;5;66;03m# take() does not accept boolean indexers\u001b[39;00m\n\u001b[0;32m   3902\u001b[0m \u001b[38;5;28;01mif\u001b[39;00m \u001b[38;5;28mgetattr\u001b[39m(indexer, \u001b[38;5;124m\"\u001b[39m\u001b[38;5;124mdtype\u001b[39m\u001b[38;5;124m\"\u001b[39m, \u001b[38;5;28;01mNone\u001b[39;00m) \u001b[38;5;241m==\u001b[39m \u001b[38;5;28mbool\u001b[39m:\n",
      "File \u001b[1;32m~\\anaconda3\\Lib\\site-packages\\pandas\\core\\indexes\\base.py:6115\u001b[0m, in \u001b[0;36mIndex._get_indexer_strict\u001b[1;34m(self, key, axis_name)\u001b[0m\n\u001b[0;32m   6112\u001b[0m \u001b[38;5;28;01melse\u001b[39;00m:\n\u001b[0;32m   6113\u001b[0m     keyarr, indexer, new_indexer \u001b[38;5;241m=\u001b[39m \u001b[38;5;28mself\u001b[39m\u001b[38;5;241m.\u001b[39m_reindex_non_unique(keyarr)\n\u001b[1;32m-> 6115\u001b[0m \u001b[38;5;28mself\u001b[39m\u001b[38;5;241m.\u001b[39m_raise_if_missing(keyarr, indexer, axis_name)\n\u001b[0;32m   6117\u001b[0m keyarr \u001b[38;5;241m=\u001b[39m \u001b[38;5;28mself\u001b[39m\u001b[38;5;241m.\u001b[39mtake(indexer)\n\u001b[0;32m   6118\u001b[0m \u001b[38;5;28;01mif\u001b[39;00m \u001b[38;5;28misinstance\u001b[39m(key, Index):\n\u001b[0;32m   6119\u001b[0m     \u001b[38;5;66;03m# GH 42790 - Preserve name from an Index\u001b[39;00m\n",
      "File \u001b[1;32m~\\anaconda3\\Lib\\site-packages\\pandas\\core\\indexes\\base.py:6179\u001b[0m, in \u001b[0;36mIndex._raise_if_missing\u001b[1;34m(self, key, indexer, axis_name)\u001b[0m\n\u001b[0;32m   6176\u001b[0m     \u001b[38;5;28;01mraise\u001b[39;00m \u001b[38;5;167;01mKeyError\u001b[39;00m(\u001b[38;5;124mf\u001b[39m\u001b[38;5;124m\"\u001b[39m\u001b[38;5;124mNone of [\u001b[39m\u001b[38;5;132;01m{\u001b[39;00mkey\u001b[38;5;132;01m}\u001b[39;00m\u001b[38;5;124m] are in the [\u001b[39m\u001b[38;5;132;01m{\u001b[39;00maxis_name\u001b[38;5;132;01m}\u001b[39;00m\u001b[38;5;124m]\u001b[39m\u001b[38;5;124m\"\u001b[39m)\n\u001b[0;32m   6178\u001b[0m not_found \u001b[38;5;241m=\u001b[39m \u001b[38;5;28mlist\u001b[39m(ensure_index(key)[missing_mask\u001b[38;5;241m.\u001b[39mnonzero()[\u001b[38;5;241m0\u001b[39m]]\u001b[38;5;241m.\u001b[39munique())\n\u001b[1;32m-> 6179\u001b[0m \u001b[38;5;28;01mraise\u001b[39;00m \u001b[38;5;167;01mKeyError\u001b[39;00m(\u001b[38;5;124mf\u001b[39m\u001b[38;5;124m\"\u001b[39m\u001b[38;5;132;01m{\u001b[39;00mnot_found\u001b[38;5;132;01m}\u001b[39;00m\u001b[38;5;124m not in index\u001b[39m\u001b[38;5;124m\"\u001b[39m)\n",
      "\u001b[1;31mKeyError\u001b[0m: \"['TMIN', 'TMAX'] not in index\""
     ]
    }
   ],
   "source": [
    "# get all historical data for New York, stacked into array\n",
    "\n",
    "station = 'NEW YORK'\n",
    "\n",
    "allyears = np.arange(1880, 2020)\n",
    "\n",
    "alldata = np.vstack([getweather.getyear(station, ['TMIN','TMAX'], year)\n",
    "                     for year in allyears])"
   ]
  },
  {
   "cell_type": "code",
   "execution_count": null,
   "metadata": {},
   "outputs": [],
   "source": [
    "# compute (TMIN + TMAX)/2, averaged over days in every year\n",
    "allavg = np.nanmean(0.5 * (alldata['TMIN'] + alldata['TMAX']), axis=1)"
   ]
  },
  {
   "cell_type": "code",
   "execution_count": null,
   "metadata": {},
   "outputs": [],
   "source": [
    "allavg.shape"
   ]
  },
  {
   "cell_type": "code",
   "execution_count": null,
   "metadata": {},
   "outputs": [],
   "source": [
    "allyears.index(1945)"
   ]
  },
  {
   "cell_type": "code",
   "execution_count": null,
   "metadata": {},
   "outputs": [],
   "source": [
    "# find the index of values 1945 and 1955 in allyears\n",
    "list(allyears).index(1945), list(allyears).index(1955)"
   ]
  },
  {
   "cell_type": "code",
   "execution_count": null,
   "metadata": {},
   "outputs": [],
   "source": [
    "midcentury = np.nanmean(allavg[65:75])"
   ]
  },
  {
   "cell_type": "code",
   "execution_count": null,
   "metadata": {},
   "outputs": [],
   "source": [
    "midcentury"
   ]
  },
  {
   "cell_type": "code",
   "execution_count": null,
   "metadata": {},
   "outputs": [],
   "source": [
    "pp.plot(allyears, allavg - midcentury)"
   ]
  },
  {
   "cell_type": "code",
   "execution_count": null,
   "metadata": {},
   "outputs": [],
   "source": [
    "pp.plot(allyears[4:-4], smooth(allavg - midcentury, 9, 'valid'))"
   ]
  },
  {
   "cell_type": "code",
   "execution_count": null,
   "metadata": {},
   "outputs": [],
   "source": [
    "# compute and plot the temperature anomaly time series for any station\n",
    "\n",
    "allyears = np.arange(1880, 2020)\n",
    "\n",
    "def plotanomaly(station):\n",
    "    # grab the data\n",
    "    alldata = np.vstack([getweather.getyear(station, ['TMIN','TMAX'], year)\n",
    "                         for year in allyears])\n",
    "    \n",
    "    # make yearly averages, and then the midcentury average\n",
    "    allavg = np.nanmean(0.5 * (alldata[:,:]['TMIN'] + alldata[:,:]['TMAX']), axis=1)\n",
    "    midcentury = np.nanmean(allavg[65:75])\n",
    "    \n",
    "    # plot with smoothing, adding a label that we can show in a legend\n",
    "    pp.plot(allyears[4:-4], smooth(allavg - midcentury, 9, 'valid'), label=station)\n",
    "    \n",
    "    # set a reasonable range\n",
    "    pp.axis(ymin=-3,ymax=3)"
   ]
  },
  {
   "cell_type": "code",
   "execution_count": null,
   "metadata": {},
   "outputs": [],
   "source": [
    "plotanomaly('NEW YORK')\n",
    "plotanomaly('PASADENA')\n",
    "plotanomaly('MINNEAPOLIS')\n",
    "\n",
    "pp.legend()"
   ]
  }
 ],
 "metadata": {
  "kernelspec": {
   "display_name": "Python 3 (ipykernel)",
   "language": "python",
   "name": "python3"
  },
  "language_info": {
   "codemirror_mode": {
    "name": "ipython",
    "version": 3
   },
   "file_extension": ".py",
   "mimetype": "text/x-python",
   "name": "python",
   "nbconvert_exporter": "python",
   "pygments_lexer": "ipython3",
   "version": "3.11.7"
  }
 },
 "nbformat": 4,
 "nbformat_minor": 4
}
